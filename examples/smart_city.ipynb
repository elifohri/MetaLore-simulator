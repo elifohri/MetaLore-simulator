{
 "cells": [
  {
   "cell_type": "markdown",
   "metadata": {},
   "source": [
    "## Customized gymnasium environment: `smart-city`"
   ]
  },
  {
   "cell_type": "code",
   "execution_count": null,
   "metadata": {},
   "outputs": [],
   "source": [
    "import gymnasium\n",
    "import matplotlib.pyplot as plt\n",
    "# importing mobile_env automatically registers the predefined scenarios in Gym"
   ]
  },
  {
   "cell_type": "code",
   "execution_count": null,
   "metadata": {},
   "outputs": [],
   "source": [
    "import mobile_env\n",
    "# predefined small scenarios\n",
    "from mobile_env.scenarios.smart_city import MComSmartCity\n",
    "\n",
    "# easy access to the default configuration\n",
    "MComSmartCity.default_config()"
   ]
  },
  {
   "cell_type": "code",
   "execution_count": null,
   "metadata": {},
   "outputs": [],
   "source": [
    "from gymnasium.envs.registration import register\n",
    "\n",
    "# Register the new environment\n",
    "register(\n",
    "    id='mobile-smart_city-smart_city_handler-v0',\n",
    "    entry_point='mobile_env.scenarios.smart_city:MComSmartCity',  # Adjust this if the entry point is different\n",
    "    kwargs={'config': {}, 'render_mode': None}\n",
    ")"
   ]
  },
  {
   "cell_type": "code",
   "execution_count": null,
   "metadata": {},
   "outputs": [],
   "source": [
    "import gymnasium as gym\n",
    "\n",
    "# List all registered environments\n",
    "env_specs = gym.envs.registry.keys()\n",
    "print(env_specs)\n",
    "\n",
    "# Verify your specific environment is listed\n",
    "assert 'mobile-smart_city-smart_city_handler-v0' in env_specs, \"Environment not registered correctly\"\n",
    "print(\"Environment 'mobile-smart_city-smart_city_handler-v0' registered successfully!\")"
   ]
  },
  {
   "cell_type": "code",
   "execution_count": null,
   "metadata": {},
   "outputs": [],
   "source": [
    "# create a small mobile environment for a single, centralized control agent\n",
    "# pass rgb_array as render mode so the env can be rendered inside the notebook\n",
    "env = gymnasium.make(\"mobile-smart_city-smart_city_handler-v0\", render_mode=\"rgb_array\")\n",
    "\n",
    "print(f\"\\nSmart city environment with {env.NUM_USERS} users, {env.NUM_SENSORS} sensors and {env.NUM_STATIONS} cells.\")"
   ]
  },
  {
   "cell_type": "code",
   "execution_count": null,
   "metadata": {},
   "outputs": [],
   "source": [
    "from IPython import display\n",
    "\n",
    "# run the simulation for 10 time steps\n",
    "done = False\n",
    "obs, info = env.reset()\n",
    "for _ in range(20):\n",
    "    # here, use random dummy actions by sampling from the action space\n",
    "    dummy_action = env.action_space.sample()\n",
    "    obs, reward, terminated, truncated, info = env.step(dummy_action)\n",
    "\n",
    "    # render the environment\n",
    "    plt.imshow(env.render())\n",
    "    display.display(plt.gcf())\n",
    "    display.clear_output(wait=True)"
   ]
  },
  {
   "cell_type": "code",
   "execution_count": null,
   "metadata": {},
   "outputs": [],
   "source": [
    "env.plot_queue_sizes()"
   ]
  },
  {
   "cell_type": "code",
   "execution_count": null,
   "metadata": {},
   "outputs": [],
   "source": [
    "env.plot_dropped_packets()"
   ]
  },
  {
   "cell_type": "code",
   "execution_count": null,
   "metadata": {},
   "outputs": [],
   "source": [
    "env.dropped_packet_logs\n"
   ]
  },
  {
   "cell_type": "code",
   "execution_count": null,
   "metadata": {},
   "outputs": [],
   "source": [
    "env.plot_resource_allocations()"
   ]
  },
  {
   "cell_type": "markdown",
   "metadata": {},
   "source": [
    "The rendered environment shows the 6 cells as cell towers with circles indicating their range.\n",
    "The 15 moving users are shown as small circles, where the number indicates the user ID and\n",
    "the color represents the user's current QoE (red = bad, yellow = ok, green = good).\n",
    "\n",
    "A line between a user and a cell indicates that the user is connected to the cell.\n",
    "Again, the line color indicates the QoE that's achieved via the connection.\n",
    "Note that users can connect to multiple cells simultaneously using coordinated multipoint (CoMP).\n",
    "\n",
    "Here, with random action, users sometimes connect to cells but are oftentimes also completely disconnected from any cells, leading to bad QoE (red circles)."
   ]
  },
  {
   "cell_type": "markdown",
   "metadata": {},
   "source": [
    "New Scenario to check 'f the simulator works properly"
   ]
  },
  {
   "cell_type": "markdown",
   "metadata": {},
   "source": [
    "from IPython import display\n",
    "import logging\n",
    "\n",
    "# Predefined actions for nine episodes\n",
    "predefined_actions = [\n",
    "    (0.1, 0.1), \n",
    "    (0.2, 0.2), \n",
    "    (0.3, 0.3), \n",
    "    (0.4, 0.4), \n",
    "    (0.5, 0.5), \n",
    "    (0.6, 0.6), \n",
    "    (0.7, 0.7), \n",
    "    (0.8, 0.8), \n",
    "    (0.9, 0.9)\n",
    "]\n",
    "\n",
    "print(predefined_actions)\n",
    "\n",
    "# Run the simulation for 50 time steps for 9 episodes\n",
    "num_episodes = 9\n",
    "time_steps = 10\n",
    "\n",
    "for episode in range(num_episodes):\n",
    "    done = False\n",
    "    obs, info = env.reset()\n",
    "    \n",
    "    # Get the predefined action for this episode\n",
    "    action = predefined_actions[episode]\n",
    "\n",
    "    for t in range(time_steps):\n",
    "        # Use the predefined action for this episode\n",
    "        obs, reward, terminated, truncated, info = env.step(action)\n",
    "        \n",
    "        # Render the environment\n",
    "        plt.imshow(env.render())\n",
    "        display.display(plt.gcf())\n",
    "        display.clear_output(wait=True)\n",
    "        \n",
    "        # Check if the episode is done\n",
    "        if terminated or truncated:\n",
    "            break\n",
    "\n",
    "    print(f\"Episode {episode + 1}: Action {action} completed.\")\n",
    "    print(f\"Reward for episode {episode + 1}: {reward}\")"
   ]
  }
 ],
 "metadata": {
  "kernelspec": {
   "display_name": "Python 3",
   "language": "python",
   "name": "python3"
  },
  "language_info": {
   "codemirror_mode": {
    "name": "ipython",
    "version": 3
   },
   "file_extension": ".py",
   "mimetype": "text/x-python",
   "name": "python",
   "nbconvert_exporter": "python",
   "pygments_lexer": "ipython3",
   "version": "3.9.0"
  }
 },
 "nbformat": 4,
 "nbformat_minor": 2
}
