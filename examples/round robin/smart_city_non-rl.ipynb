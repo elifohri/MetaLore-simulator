{
 "cells": [
  {
   "cell_type": "markdown",
   "metadata": {},
   "source": [
    "## Baseline Scenario\n",
    "\n",
    "Keep a running average for throughput (sensors and users) and a running average for age-of-info. \n",
    "- If the age-of-info is larger than threshold double the sensor BW and CPU. \n",
    "- If the throughput is less than threshold double BW/CPU for users.\n"
   ]
  },
  {
   "cell_type": "code",
   "execution_count": null,
   "metadata": {},
   "outputs": [],
   "source": [
    "import gymnasium as gym\n",
    "import matplotlib.pyplot as plt\n",
    "\n",
    "# predefined smart city scenario\n",
    "from mobile_env.scenarios.smart_city import MComSmartCity"
   ]
  },
  {
   "cell_type": "code",
   "execution_count": null,
   "metadata": {},
   "outputs": [],
   "source": [
    "env = gym.make(\"mobile-smart_city-smart_city_handler-v0\", render_mode=\"rgb_array\")\n",
    "\n",
    "print(f\"\\nSmart city environment with {env.NUM_USERS} users, {env.NUM_SENSORS} sensors and {env.NUM_STATIONS} cells.\")"
   ]
  },
  {
   "cell_type": "code",
   "execution_count": null,
   "metadata": {},
   "outputs": [],
   "source": [
    "from IPython import display\n",
    "import matplotlib.pyplot as plt\n",
    "\n",
    "# Parameters\n",
    "aoi_threshold = 10.0  # Replace with your desired threshold\n",
    "throughput_threshold = 50.0  # Replace with your desired throughput threshold\n",
    "running_avg_aoi = 0.0\n",
    "running_avg_throughput_ue = 0.0\n",
    "running_avg_throughput_sensor = 0.0\n",
    "aoi_alpha = 0.1  # Weight for exponential moving average\n",
    "throughput_alpha = 0.1  # Weight for exponential moving average\n",
    "\n",
    "# Environment reset\n",
    "done = False\n",
    "obs, info = env.reset()\n",
    "\n",
    "# Run simulation for 100 steps\n",
    "for t in range(100):\n",
    "    # Perform a dummy action (you can replace it with learned actions or dynamic policies)\n",
    "    dummy_action = (0.50, 0.50)\n",
    "    obs, reward, terminated, truncated, info = env.step(dummy_action)\n",
    "\n",
    "    # Get metrics from the environment\n",
    "    scalar_results, _, _, _, _ = env.monitor.load_results()\n",
    "    current_aoi = scalar_results['age-of-info'].iloc[-1]  # Replace with correct metric name\n",
    "    current_throughput_ue = scalar_results['total throughput ue'].iloc[-1]  # Replace with correct metric name\n",
    "    current_throughput_sensor = scalar_results['total throughput sensor'].iloc[-1]  # Replace with correct metric name\n",
    "\n",
    "    # Update running averages using exponential moving average\n",
    "    running_avg_aoi = (1 - aoi_alpha) * running_avg_aoi + aoi_alpha * current_aoi\n",
    "    running_avg_throughput_ue = (1 - throughput_alpha) * running_avg_throughput_ue + throughput_alpha * current_throughput_ue\n",
    "    running_avg_throughput_sensor = (1 - throughput_alpha) * running_avg_throughput_sensor + throughput_alpha * current_throughput_sensor\n",
    "\n",
    "    # Adjust resources based on thresholds\n",
    "    if running_avg_aoi > aoi_threshold:\n",
    "        print(f\"Time {t}: Doubling Sensor BW and CPU due to high AoI ({running_avg_aoi:.2f})\")\n",
    "        for sensor in env.sensors.values():\n",
    "            sensor.bw *= 2\n",
    "            sensor.cpu *= 2\n",
    "\n",
    "    if running_avg_throughput_ue < throughput_threshold:\n",
    "        print(f\"Time {t}: Doubling User BW and CPU due to low throughput ({running_avg_throughput_ue:.2f})\")\n",
    "        for ue in env.users.values():\n",
    "            ue.bw *= 2\n",
    "            ue.cpu *= 2\n",
    "\n",
    "    # Check termination condition\n",
    "    if terminated or truncated:\n",
    "        break\n",
    "\n",
    "    # Render the environment\n",
    "    plt.imshow(env.render())\n",
    "    display.display(plt.gcf())\n",
    "    display.clear_output(wait=True)\n",
    "\n",
    "# Close the plot after simulation\n",
    "plt.close()\n"
   ]
  },
  {
   "cell_type": "code",
   "execution_count": null,
   "metadata": {},
   "outputs": [],
   "source": [
    "scalar_results, kpi_results, ue_results, bs_results, ss_results = env.monitor.load_results()\n",
    "\n",
    "scalar_results"
   ]
  },
  {
   "cell_type": "code",
   "execution_count": null,
   "metadata": {},
   "outputs": [],
   "source": [
    "kpi_results"
   ]
  },
  {
   "cell_type": "code",
   "execution_count": null,
   "metadata": {},
   "outputs": [],
   "source": [
    "ue_results"
   ]
  },
  {
   "cell_type": "code",
   "execution_count": null,
   "metadata": {},
   "outputs": [],
   "source": [
    "ss_results"
   ]
  },
  {
   "cell_type": "code",
   "execution_count": null,
   "metadata": {},
   "outputs": [],
   "source": [
    "bs_results"
   ]
  },
  {
   "cell_type": "code",
   "execution_count": null,
   "metadata": {},
   "outputs": [],
   "source": [
    "data = kpi_results.agg(['min', 'max', 'mean'])\n",
    "data"
   ]
  },
  {
   "cell_type": "code",
   "execution_count": null,
   "metadata": {},
   "outputs": [],
   "source": [
    "data = scalar_results.agg(['min', 'max', 'mean'])\n",
    "data"
   ]
  },
  {
   "cell_type": "code",
   "execution_count": null,
   "metadata": {},
   "outputs": [],
   "source": [
    "data = ue_results.reset_index()\n",
    "data = data.groupby('UE ID').agg(['mean', 'min', 'max'])\n",
    "data = data.drop('Time Step', axis='columns')\n",
    "data"
   ]
  },
  {
   "cell_type": "code",
   "execution_count": null,
   "metadata": {},
   "outputs": [],
   "source": [
    "data = ss_results.reset_index()\n",
    "data = data.groupby('Sensor ID').agg(['mean', 'min', 'max'])\n",
    "data = data.drop('Time Step', axis='columns')\n",
    "data"
   ]
  },
  {
   "cell_type": "code",
   "execution_count": null,
   "metadata": {},
   "outputs": [],
   "source": [
    "data = bs_results.reset_index()\n",
    "data = data.groupby('BS ID').agg(['mean', 'min', 'max'])\n",
    "data = data.drop('Time Step', axis='columns')\n",
    "data"
   ]
  },
  {
   "cell_type": "code",
   "execution_count": null,
   "metadata": {},
   "outputs": [],
   "source": [
    "import matplotlib.pyplot as plt\n",
    "\n",
    "def plot_kpi_metrics():\n",
    "    # Plot kpi metrics\n",
    "    for metric in kpi_results.columns:\n",
    "        plt.figure(figsize=(12, 8))\n",
    "        kpi_results[metric].plot()\n",
    "        plt.title(f\"{metric}\")\n",
    "        plt.xlabel(\"Time Step\")\n",
    "        plt.ylabel(\"Value\")\n",
    "        plt.grid(True)\n",
    "        plt.show()\n",
    "\n",
    "plot_kpi_metrics()"
   ]
  },
  {
   "cell_type": "code",
   "execution_count": null,
   "metadata": {},
   "outputs": [],
   "source": [
    "import pandas as pd\n",
    "import time\n",
    "\n",
    "# Reset environment and initialize variables\n",
    "done = False\n",
    "obs, info = env.reset()\n",
    "all_kpi_means = []  # List to store mean metrics for each episode\n",
    "episode_infos = []\n",
    "\n",
    "# Run for 100 time steps for 100 episodes\n",
    "for episode in range(100):\n",
    "    obs, info = env.reset()\n",
    "    print(f\"Starting Episode {episode + 1}\")\n",
    "    episode_start_time = time.time()  # Start timing the episode\n",
    "\n",
    "    for t in range(100):\n",
    "        # Perform dummy action\n",
    "        dummy_action = (1.0, 1.0)\n",
    "        obs, reward, terminated, truncated, info = env.step(dummy_action)\n",
    "\n",
    "        # Check termination condition\n",
    "        if terminated or truncated:\n",
    "            break\n",
    "    \n",
    "    # Calculate and store the episode duration\n",
    "    episode_duration = time.time() - episode_start_time\n",
    "    print(f\"Completed Episode {episode + 1}: {episode_duration}\")\n",
    "\n",
    "    # Load results after the episode\n",
    "    _, kpi_results, _, _, _ = env.monitor.load_results()\n",
    "\n",
    "    # Compute mean of metrics over the episode\n",
    "    kpi_mean = kpi_results.mean()  # Calculate mean for each metric\n",
    "    all_kpi_means.append(kpi_mean)\n",
    "\n",
    "    # Add episode-level information to the list\n",
    "    episode_info = {\n",
    "        \"Episode\": episode + 1,\n",
    "        \"Total Reward\": info.get(\"episode reward\"),\n",
    "        \"Queue Size Transferred Jobs UE\": info.get(\"bs trans. ue\"),\n",
    "        \"Queue Size Transferred Jobs Sensor\": info.get(\"bs trans. ss\"),\n",
    "        \"Queue Size Accomplished Jobs UE\": info.get(\"bs accomp. us\"),\n",
    "        \"Queue Size Accomplished Jobs Sensor\": info.get(\"bs accomp. ss\"),\n",
    "    }\n",
    "    episode_infos.append(episode_info)\n",
    "\n",
    "    print(f\"Mean Reward for Episode: {episode_info['Total Reward']/100:.2f}\")\n",
    "\n",
    "\n",
    "# Convert all_kpi_means and episode_infos to DataFrames\n",
    "episode_infos_df = pd.DataFrame(episode_infos)\n",
    "all_kpi_means_df = pd.DataFrame(all_kpi_means)\n",
    "\n",
    "# Display mean KPI metrics for each episode\n",
    "print(episode_infos_df)\n",
    "print(all_kpi_means_df)\n",
    "\n",
    "# Save results to CSV files\n",
    "episode_infos_df.to_csv(\"episode_infos.csv\", index=False)\n",
    "all_kpi_means_df.to_csv(\"kpi_means_per_episode.csv\", index=False)"
   ]
  },
  {
   "cell_type": "code",
   "execution_count": null,
   "metadata": {},
   "outputs": [],
   "source": [
    "# Plot each metric in a separate plot\n",
    "required_metrics = [\"reward\", \"total throughput ue\", \"total throughput sensor\", \"total delayed packets\", \"total aori\", \"total aosi\"]\n",
    "\n",
    "for metric in required_metrics:\n",
    "    plt.figure(figsize=(10, 6))\n",
    "    plt.plot(all_kpi_means_df.index, all_kpi_means_df[metric], marker='o', label=metric)\n",
    "    plt.title(f\"Mean {metric} Over Episodes\", fontsize=16)\n",
    "    plt.xlabel(\"Episode\", fontsize=14)\n",
    "    plt.ylabel(\"Value\", fontsize=14)\n",
    "    plt.grid(True)\n",
    "    plt.legend()\n",
    "    plt.show()"
   ]
  },
  {
   "cell_type": "code",
   "execution_count": null,
   "metadata": {},
   "outputs": [],
   "source": [
    "import numpy as np\n",
    "\n",
    "# Function to calculate and plot the CDF for each metric\n",
    "def plot_cdf_metrics(metrics_df, metrics_list):\n",
    "    for metric in metrics_list:\n",
    "        plt.figure(figsize=(10, 6))\n",
    "        \n",
    "        # Get the values for the metric\n",
    "        metric_values = metrics_df[metric].dropna().values  # Drop NaN values\n",
    "        \n",
    "        # Sort the values and compute the CDF\n",
    "        sorted_values = np.sort(metric_values)\n",
    "        cdf = np.arange(1, len(sorted_values) + 1) / len(sorted_values)\n",
    "        \n",
    "        # Plot the CDF\n",
    "        plt.plot(sorted_values, cdf, marker='o', label=f\"CDF of {metric}\")\n",
    "        plt.title(f\"CDF of {metric}\", fontsize=16)\n",
    "        plt.xlabel(f\"{metric} Value\", fontsize=14)\n",
    "        plt.ylabel(\"Cumulative Probability\", fontsize=14)\n",
    "        plt.grid(True)\n",
    "        plt.legend()\n",
    "        plt.show()\n",
    "\n",
    "# Metrics to plot\n",
    "required_metrics = [\"reward\", \"total throughput ue\", \"total throughput sensor\", \"total delayed packets\", \"total aori\", \"total aosi\"]\n",
    "\n",
    "# Call the CDF plot function\n",
    "plot_cdf_metrics(all_kpi_means_df, required_metrics)\n"
   ]
  }
 ],
 "metadata": {
  "kernelspec": {
   "display_name": "Python 3",
   "language": "python",
   "name": "python3"
  },
  "language_info": {
   "codemirror_mode": {
    "name": "ipython",
    "version": 3
   },
   "file_extension": ".py",
   "mimetype": "text/x-python",
   "name": "python",
   "nbconvert_exporter": "python",
   "pygments_lexer": "ipython3",
   "version": "3.9.6"
  }
 },
 "nbformat": 4,
 "nbformat_minor": 2
}
