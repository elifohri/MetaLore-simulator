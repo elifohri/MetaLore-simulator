{
 "cells": [
  {
   "cell_type": "markdown",
   "metadata": {},
   "source": [
    "## Baseline Scenario\n",
    "\n",
    "#### Fixed Split:\n",
    "\n",
    "- Bandwidth: 50% to user equipment, 50% to sensors\n",
    "- Computational power: 50% to user equipment, 50% to sensors"
   ]
  },
  {
   "cell_type": "code",
   "execution_count": null,
   "metadata": {},
   "outputs": [],
   "source": [
    "import gymnasium as gym\n",
    "import matplotlib.pyplot as plt\n",
    "\n",
    "# predefined smart city scenario\n",
    "from mobile_env.scenarios.smart_city import MComSmartCity"
   ]
  },
  {
   "cell_type": "code",
   "execution_count": null,
   "metadata": {},
   "outputs": [],
   "source": [
    "env = gym.make(\"mobile-smart_city-smart_city_handler-v0\", render_mode=\"rgb_array\")\n",
    "\n",
    "print(f\"\\nSmart city environment with {env.NUM_USERS} users, {env.NUM_SENSORS} sensors and {env.NUM_STATIONS} cells.\")"
   ]
  },
  {
   "cell_type": "code",
   "execution_count": null,
   "metadata": {},
   "outputs": [],
   "source": [
    "from IPython import display\n",
    "\n",
    "# run the simulation for 20 time steps\n",
    "done = False\n",
    "obs, info = env.reset()\n",
    "\n",
    "total_episode_reward = 0\n",
    "total_reward_over_time = []  # List to store the reward at each time step\n",
    "\n",
    "for _ in range(100):\n",
    "    # here, use random dummy actions by sampling from the action space\n",
    "    dummy_action = (0.50, 0.50)\n",
    "    obs, reward, terminated, truncated, info = env.step(dummy_action)\n",
    "    \n",
    "    # accumulate total reward for the episode\n",
    "    total_episode_reward += reward\n",
    "    total_reward_over_time.append(total_episode_reward) \n",
    "\n",
    "    # render the environment\n",
    "    plt.imshow(env.render())\n",
    "    display.display(plt.gcf())\n",
    "    display.clear_output(wait=True)\n",
    "    \n",
    "    \n",
    "plt.close()"
   ]
  },
  {
   "cell_type": "code",
   "execution_count": null,
   "metadata": {},
   "outputs": [],
   "source": [
    "env.plot_rewards()\n",
    "\n",
    "# Plot the reward over time\n",
    "plt.figure(figsize=(12, 6))\n",
    "plt.plot(range(1, len(total_reward_over_time) + 1), total_reward_over_time, marker='o')\n",
    "plt.title('Total Reward Over Time')\n",
    "plt.xlabel('Time Step')\n",
    "plt.ylabel('Total Reward')\n",
    "plt.grid(True)\n",
    "plt.show()"
   ]
  },
  {
   "cell_type": "code",
   "execution_count": null,
   "metadata": {},
   "outputs": [],
   "source": [
    "# Plot other environment metrics\n",
    "env.plot_queue_sizes()\n",
    "env.plot_resource_allocations()"
   ]
  },
  {
   "cell_type": "code",
   "execution_count": null,
   "metadata": {},
   "outputs": [],
   "source": [
    "env.plot_delayed_packets()\n",
    "env.plot_total_delayed_packets()"
   ]
  },
  {
   "cell_type": "code",
   "execution_count": null,
   "metadata": {},
   "outputs": [],
   "source": [
    "env.plot_throughput()\n",
    "env.plot_cumulative_throughput()"
   ]
  },
  {
   "cell_type": "code",
   "execution_count": null,
   "metadata": {},
   "outputs": [],
   "source": [
    "env.plot_aoi_per_device()"
   ]
  },
  {
   "cell_type": "code",
   "execution_count": null,
   "metadata": {},
   "outputs": [],
   "source": [
    "num_episodes = 50\n",
    "total_rewards_per_episode = []  # Store total reward at the end of each episode\n",
    "\n",
    "for episode in range(num_episodes):\n",
    "    \n",
    "    obs, info = env.reset()  # Reset environment for each episode\n",
    "    total_episode_reward = 0  # Reset total reward for this episode\n",
    "    done = False\n",
    "\n",
    "    # Run the episode until it's done\n",
    "    while not done:\n",
    "        # Use random dummy actions by sampling from the action space\n",
    "        dummy_action = (0.50, 0.50)\n",
    "        obs, reward, terminated, truncated, info = env.step(dummy_action)\n",
    "        \n",
    "        # Accumulate total reward for this episode\n",
    "        total_episode_reward += reward\n",
    "\n",
    "        # Check if the episode is over\n",
    "        done = terminated or truncated\n",
    "        \n",
    "        # Render the environment (optional, can be removed if not needed)\n",
    "        plt.imshow(env.render())\n",
    "        display.display(plt.gcf())\n",
    "        display.clear_output(wait=True)\n",
    "\n",
    "    # Store the total reward for this episode\n",
    "    total_rewards_per_episode.append(total_episode_reward)\n",
    "    \n",
    "    # Print a message at the end of each episode\n",
    "    print(f\"Episode {episode + 1} completed. Total Reward: {total_episode_reward}\")\n",
    "\n",
    "# Close the display after all episodes\n",
    "plt.close()"
   ]
  },
  {
   "cell_type": "code",
   "execution_count": null,
   "metadata": {},
   "outputs": [],
   "source": [
    "# Plot the total rewards at the end of each episode\n",
    "plt.figure(figsize=(12, 6))\n",
    "plt.plot(range(1, num_episodes + 1), total_rewards_per_episode, marker='o', color='b', label=\"Total Reward per Episode\")\n",
    "plt.xlabel(\"Episode\")\n",
    "plt.ylabel(\"Total Reward\")\n",
    "plt.title(\"Total Reward at the End of Each Episode\")\n",
    "plt.legend()\n",
    "plt.grid(True)\n",
    "plt.show()"
   ]
  }
 ],
 "metadata": {
  "kernelspec": {
   "display_name": "Python 3",
   "language": "python",
   "name": "python3"
  },
  "language_info": {
   "codemirror_mode": {
    "name": "ipython",
    "version": 3
   },
   "file_extension": ".py",
   "mimetype": "text/x-python",
   "name": "python",
   "nbconvert_exporter": "python",
   "pygments_lexer": "ipython3",
   "version": "3.12.3"
  }
 },
 "nbformat": 4,
 "nbformat_minor": 2
}
