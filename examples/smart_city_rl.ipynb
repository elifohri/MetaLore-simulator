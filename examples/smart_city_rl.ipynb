{
 "cells": [
  {
   "cell_type": "markdown",
   "metadata": {},
   "source": [
    "# Demonstrating `mobile-env:smart-city`\n",
    "\n",
    "`mobile-env` is a simple and open environment for training, testing, and evaluating a decentralized metaverse environment.\n",
    "\n",
    "* `mobile-env:smart-city` is written in pure Python\n",
    "* It allows simulating various scenarios with moving users in a cellular network with a single base station and multiple stationary sensors\n",
    "* `mobile-env:smart-city` implements the standard [Gymnasium](https://gymnasium.farama.org/) (previously [OpenAI Gym](https://gym.openai.com/)) interface such that it can be used with all common frameworks for reinforcement learning\n",
    "* `mobile-env:smart-city` is not restricted to reinforcement learning approaches but can also be used with conventional control approaches or dummy benchmark algorithms\n",
    "* It can be configured easily (e.g., adjusting number and movement of users, properties of cells, etc.)\n",
    "* It is also easy to extend `mobile-env:smart-city`, e.g., implementing different observations, actions, or reward\n",
    "\n",
    "As such `mobile-env:smart-city` is a simple platform to test RL algorithms in a decentralized metaverse environment.\n"
   ]
  },
  {
   "cell_type": "markdown",
   "metadata": {},
   "source": [
    "**Demonstration Steps:**\n",
    "\n",
    "This demonstration consists of the following steps:\n",
    "\n",
    "1. Installation and usage of `mobile-env` with dummy actions\n",
    "2. Configuration of `mobile-env` and adjustment of the observation space (optional)\n",
    "3. Training a single-agent reinforcement learning approach with [`stable-baselines3`](https://github.com/DLR-RM/stable-baselines3)"
   ]
  },
  {
   "cell_type": "code",
   "execution_count": null,
   "metadata": {},
   "outputs": [],
   "source": [
    "# First, install stable baselines; only SB3 v2.0.0+ supports Gymnasium\n",
    "%pip install stable-baselines3==2.0.0 tensorboard"
   ]
  },
  {
   "cell_type": "code",
   "execution_count": null,
   "metadata": {},
   "outputs": [],
   "source": [
    "# Importing necessary libraries\n",
    "import gymnasium\n",
    "import mobile_env\n",
    "import numpy as np\n",
    "from stable_baselines3 import PPO\n",
    "from stable_baselines3.ppo import MlpPolicy\n",
    "from stable_baselines3.common.env_checker import check_env\n",
    "\n",
    "# predefined small scenarios\n",
    "from mobile_env.scenarios.smart_city import MComSmartCity\n",
    "\n",
    "# easy access to the default configuration\n",
    "MComSmartCity.default_config()"
   ]
  },
  {
   "cell_type": "code",
   "execution_count": null,
   "metadata": {},
   "outputs": [],
   "source": [
    "from gymnasium.envs.registration import register\n",
    "\n",
    "# Register the new environment\n",
    "register(\n",
    "    id='mobile-smart_city-smart_city_handler-rl-v0',\n",
    "    entry_point='mobile_env.scenarios.smart_city:MComSmartCity',  # Adjust this if the entry point is different\n",
    "    kwargs={'config': {}, 'render_mode': None}\n",
    ")"
   ]
  },
  {
   "cell_type": "code",
   "execution_count": null,
   "metadata": {},
   "outputs": [],
   "source": [
    "import gymnasium as gym\n",
    "\n",
    "# List all registered environments\n",
    "env_specs = gym.envs.registry.keys()\n",
    "print(env_specs)\n",
    "\n",
    "# Verify your specific environment is listed\n",
    "assert 'mobile-smart_city-smart_city_handler-rl-v0' in env_specs, \"Environment not registered correctly\"\n",
    "print(\"Environment 'mobile-smart_city-smart_city_handler-rl-v0' registered successfully!\")"
   ]
  },
  {
   "cell_type": "code",
   "execution_count": null,
   "metadata": {},
   "outputs": [],
   "source": [
    "# create a small mobile environment for a single, centralized control agent\n",
    "# pass rgb_array as render mode so the env can be rendered inside the notebook\n",
    "env = gymnasium.make(\"mobile-smart_city-smart_city_handler-rl-v0\", render_mode=\"rgb_array\")\n",
    "\n",
    "print(f\"\\nSmart city environment for RL with {env.NUM_USERS} users, {env.NUM_SENSORS} sensors and {env.NUM_STATIONS} cells.\")"
   ]
  },
  {
   "cell_type": "code",
   "execution_count": null,
   "metadata": {},
   "outputs": [],
   "source": [
    "# Step 4: Train a Single-Agent Reinforcement Learning\n",
    "\n",
    "import os\n",
    "from stable_baselines3 import PPO\n",
    "from stable_baselines3.common.callbacks import EvalCallback, CheckpointCallback, BaseCallback\n",
    "from stable_baselines3.common.monitor import Monitor\n",
    "from stable_baselines3.common.env_util import make_vec_env\n",
    "import gymnasium\n",
    "from stable_baselines3.common.logger import configure\n",
    "from torch.utils.tensorboard import SummaryWriter\n",
    "\n",
    "# Custom callback to log additional metrics to TensorBoard\n",
    "class TensorboardCallback(BaseCallback):\n",
    "    def __init__(self, verbose=1):\n",
    "        super(TensorboardCallback, self).__init__(verbose)\n",
    "    \n",
    "    def _on_step(self) -> bool:\n",
    "        # Add custom logging here, for example:\n",
    "        # Log the number of timesteps to TensorBoard\n",
    "        self.logger.record('custom/number_of_steps', self.num_timesteps)\n",
    "\n",
    "        # You can log any custom metric by accessing the environment, model, or episode rewards\n",
    "        # For example, log reward\n",
    "        reward = self.locals['rewards']\n",
    "        self.logger.record('custom/reward', reward)\n",
    "        \n",
    "        return True\n",
    "\n",
    "# Wrap the environment with Monitor\n",
    "env = Monitor(env)\n",
    "\n",
    "# Define the model for training (PPO algorithm)\n",
    "model = PPO('MlpPolicy', env, tensorboard_log='results_sb', verbose=1)\n",
    "\n",
    "# Create an evaluation environment for logging\n",
    "eval_env = gymnasium.make(\"mobile-smart_city-smart_city_handler-rl-v0\", render_mode=\"rgb_array\")\n",
    "eval_env = Monitor(eval_env)  # Wrap the eval environment with Monitor\n",
    "\n",
    "# Set up TensorBoard logging configuration\n",
    "# Optional: You can configure the logger more explicitly if needed\n",
    "log_dir = \"results_sb\"\n",
    "new_logger = configure(log_dir, [\"tensorboard\"])\n",
    "model.set_logger(new_logger)\n",
    "\n",
    "# Define callbacks\n",
    "eval_callback = EvalCallback(eval_env, best_model_save_path='./logs/best_model',\n",
    "                             log_path='./logs/results', eval_freq=500)\n",
    "checkpoint_callback = CheckpointCallback(save_freq=1000, save_path='./logs/', name_prefix='ppo_model')\n",
    "\n",
    "# Create a Tensorboard callback\n",
    "tensorboard_callback = TensorboardCallback()\n",
    "\n",
    "# Train the model with custom TensorBoard logging and callbacks\n",
    "model.learn(total_timesteps=30000, callback=[eval_callback, checkpoint_callback, tensorboard_callback])\n",
    "\n",
    "# Save the trained model for future use\n",
    "model.save(\"ppo_mobile_env\")\n",
    "\n",
    "# To visualize the logs, run `tensorboard --logdir results_sb` in your terminal"
   ]
  },
  {
   "cell_type": "code",
   "execution_count": null,
   "metadata": {},
   "outputs": [],
   "source": [
    "# Step 5: Test the Trained Model\n",
    "\n",
    "# Load the saved model\n",
    "model = PPO.load(\"ppo_mobile_env\")"
   ]
  },
  {
   "cell_type": "code",
   "execution_count": null,
   "metadata": {},
   "outputs": [],
   "source": [
    "queue_lengths = np.array(env.get_queue_lengths()).ravel()\n",
    "print(f\"Queue lengths shape: {queue_lengths.shape}, values: {queue_lengths}\")\n",
    "\n",
    "resource_utilization = np.array(env.get_resource_utilization()).ravel()\n",
    "print(f\"Resource utilization shape: {resource_utilization.shape}, values: {resource_utilization}\")\n",
    "\n",
    "print(f\"Environment observation space: {env.observation_space}\")\n",
    "print(f\"Model observation space: {model.observation_space}\")"
   ]
  },
  {
   "cell_type": "code",
   "execution_count": null,
   "metadata": {},
   "outputs": [],
   "source": [
    "# Step 6: Test the model in the environment\n",
    "\n",
    "import matplotlib.pyplot as plt\n",
    "from IPython import display\n",
    "\n",
    "done = False\n",
    "obs, info = env.reset()\n",
    "\n",
    "total_episode_reward = 0\n",
    "total_reward_over_time = []  # List to store the reward at each time step\n",
    "\n",
    "for step in range(100):\n",
    "    # Extract the array part of the observation, ignoring the empty dictionary\n",
    "\n",
    "    # Use the trained model to predict the action\n",
    "    action, _states = model.predict(obs)\n",
    "\n",
    "    # Take the action in the environment\n",
    "    obs, reward, terminated, truncated, info = env.step(action)\n",
    "    \n",
    "    total_episode_reward += reward\n",
    "    total_reward_over_time.append(total_episode_reward) \n",
    "\n",
    "    # Print observation and reward\n",
    "    print(f\"Step {step+1} | Action: {action} | Observation: {obs[0]} | Reward: {reward}\")\n",
    "    \n",
    "    # render the environment\n",
    "    plt.imshow(env.render())\n",
    "    display.display(plt.gcf())\n",
    "    display.clear_output(wait=True)\n",
    "    \n"
   ]
  },
  {
   "cell_type": "code",
   "execution_count": null,
   "metadata": {},
   "outputs": [],
   "source": [
    "import matplotlib.pyplot as plt\n",
    "\n",
    "# Plot the reward over time\n",
    "plt.figure(figsize=(10, 6))\n",
    "plt.plot(range(1, len(total_reward_over_time) + 1), total_reward_over_time, marker='o')\n",
    "plt.title('Total Reward Over Time')\n",
    "plt.xlabel('Time Step')\n",
    "plt.ylabel('Total Reward')\n",
    "plt.grid(True)\n",
    "plt.show()"
   ]
  },
  {
   "cell_type": "code",
   "execution_count": null,
   "metadata": {},
   "outputs": [],
   "source": [
    "# Step 7: Plot Results\n",
    "\n",
    "# Example of plotting some metrics\n",
    "import matplotlib.pyplot as plt\n",
    "\n",
    "# Example plotting of dummy reward over episodes (assuming we have a list of rewards)\n",
    "# This is just an illustrative example - you'll need to replace this with your own logic for recording rewards\n",
    "rewards = [np.random.uniform(-1, 1) for _ in range(100)]  # Replace with actual data\n",
    "\n",
    "plt.plot(rewards)\n",
    "plt.title(\"Reward Over Episodes\")\n",
    "plt.xlabel(\"Episode\")\n",
    "plt.ylabel(\"Reward\")\n",
    "plt.show()"
   ]
  }
 ],
 "metadata": {
  "kernelspec": {
   "display_name": "Python 3",
   "language": "python",
   "name": "python3"
  },
  "language_info": {
   "codemirror_mode": {
    "name": "ipython",
    "version": 3
   },
   "file_extension": ".py",
   "mimetype": "text/x-python",
   "name": "python",
   "nbconvert_exporter": "python",
   "pygments_lexer": "ipython3",
   "version": "3.12.3"
  }
 },
 "nbformat": 4,
 "nbformat_minor": 2
}
