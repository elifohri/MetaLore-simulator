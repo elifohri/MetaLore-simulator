{
 "cells": [
  {
   "cell_type": "markdown",
   "metadata": {},
   "source": [
    "# Demonstrating `mobile-env:smart-city`\n",
    "\n",
    "`mobile-env` is a simple and open environment for training, testing, and evaluating a decentralized metaverse environment.\n",
    "\n",
    "* `mobile-env:smart-city` is written in pure Python\n",
    "* It allows simulating various scenarios with moving users in a cellular network with a single base station and multiple stationary sensors\n",
    "* `mobile-env:smart-city` implements the standard [Gymnasium](https://gymnasium.farama.org/) (previously [OpenAI Gym](https://gym.openai.com/)) interface such that it can be used with all common frameworks for reinforcement learning\n",
    "* `mobile-env:smart-city` is not restricted to reinforcement learning approaches but can also be used with conventional control approaches or dummy benchmark algorithms\n",
    "* It can be configured easily (e.g., adjusting number and movement of users, properties of cells, etc.)\n",
    "* It is also easy to extend `mobile-env:smart-city`, e.g., implementing different observations, actions, or reward\n",
    "\n",
    "As such `mobile-env:smart-city` is a simple platform to test RL algorithms in a decentralized metaverse environment.\n"
   ]
  },
  {
   "cell_type": "markdown",
   "metadata": {},
   "source": [
    "**Demonstration Steps:**\n",
    "\n",
    "This demonstration consists of the following steps:\n",
    "\n",
    "1. Installation and usage of `mobile-env` with dummy actions\n",
    "2. Configuration of `mobile-env` and adjustment of the observation space (optional)\n",
    "3. Training a single-agent reinforcement learning approach with [`stable-baselines3`](https://github.com/DLR-RM/stable-baselines3)"
   ]
  },
  {
   "cell_type": "code",
   "execution_count": null,
   "metadata": {},
   "outputs": [],
   "source": [
    "# First, install stable baselines; only SB3 v2.0.0+ supports Gymnasium\n",
    "%pip install stable-baselines3==2.0.0 tensorboard"
   ]
  },
  {
   "cell_type": "code",
   "execution_count": null,
   "metadata": {},
   "outputs": [],
   "source": [
    "# Importing necessary libraries\n",
    "import gymnasium as gym\n",
    "import mobile_env\n",
    "import numpy as np\n",
    "\n",
    "# predefined small scenarios\n",
    "from mobile_env.scenarios.smart_city import MComSmartCity\n",
    "\n",
    "# easy access to the default configuration\n",
    "MComSmartCity.default_config()"
   ]
  },
  {
   "cell_type": "code",
   "execution_count": null,
   "metadata": {},
   "outputs": [],
   "source": [
    "# Parameters\n",
    "ENV_NAME = \"mobile-smart_city-smart_city_handler-v0\"\n",
    "LOG_DIR = \"./ppo_logs/\"\n",
    "MODEL_DIR = \"./ppo_models/\"\n",
    "NUM_SEEDS = 5\n",
    "EVAL_EPISODES = 100\n",
    "MAX_TIMESTEPS = 10_000\n",
    "SEEDS = [111, 222, 333, 444, 555]"
   ]
  },
  {
   "cell_type": "code",
   "execution_count": null,
   "metadata": {},
   "outputs": [],
   "source": [
    "import os\n",
    "os.makedirs(LOG_DIR, exist_ok=True)\n",
    "os.makedirs(MODEL_DIR, exist_ok=True)"
   ]
  },
  {
   "cell_type": "code",
   "execution_count": null,
   "metadata": {},
   "outputs": [],
   "source": [
    "from stable_baselines3 import PPO\n",
    "from stable_baselines3.ppo import MlpPolicy\n",
    "from stable_baselines3.common.monitor import Monitor\n",
    "from stable_baselines3.common.evaluation import evaluate_policy\n",
    "\n",
    "# Training loop\n",
    "for idx, seed in enumerate(SEEDS):\n",
    "    print(f\"\\n==== Training Run {idx+1} with Seed {seed} ====\\n\")\n",
    "    \n",
    "    # Set seed for reproducibility\n",
    "    env = Monitor(gym.make(ENV_NAME, config={\"seed\": seed}))\n",
    "    \n",
    "    # Initialize PPO model with seed\n",
    "    model = PPO(\"MlpPolicy\", env, seed=seed, tensorboard_log=LOG_DIR, verbose=1)\n",
    "    print(f\"Environment seed: {env.env.seed}\")\n",
    "\n",
    "    # Train the model\n",
    "    model.learn(total_timesteps=MAX_TIMESTEPS, log_interval=1, tb_log_name=f'PPO_seed_{seed}', progress_bar=True)\n",
    "\n",
    "    # Save the trained model\n",
    "    model_path = os.path.join(MODEL_DIR, f\"ppo_seed_{seed}.zip\")\n",
    "    model.save(model_path)\n",
    "    print(f\"Model saved at {model_path}\")\n",
    "\n",
    "    # Evaluate model\n",
    "    eval_env = Monitor(gym.make(ENV_NAME, config={\"seed\": seed}))\n",
    "    mean_reward, std_reward = evaluate_policy(model, eval_env, n_eval_episodes=EVAL_EPISODES, deterministic=True)\n",
    "\n",
    "    print(f\"Seed {seed} Evaluation Results:\")\n",
    "    print(f\"Mean Reward: {mean_reward}, Std Reward: {std_reward}\")\n",
    "\n",
    "    print(f\"Finished training with seed: {seed}\\n\")\n",
    "    \n",
    "    # Cleanup\n",
    "    env.close()\n",
    "    eval_env.close()\n"
   ]
  }
 ],
 "metadata": {
  "kernelspec": {
   "display_name": "Python 3",
   "language": "python",
   "name": "python3"
  },
  "language_info": {
   "codemirror_mode": {
    "name": "ipython",
    "version": 3
   },
   "file_extension": ".py",
   "mimetype": "text/x-python",
   "name": "python",
   "nbconvert_exporter": "python",
   "pygments_lexer": "ipython3",
   "version": "3.9.6"
  }
 },
 "nbformat": 4,
 "nbformat_minor": 2
}
