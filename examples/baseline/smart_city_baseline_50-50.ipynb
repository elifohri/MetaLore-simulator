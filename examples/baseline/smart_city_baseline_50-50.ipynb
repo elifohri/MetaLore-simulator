{
 "cells": [
  {
   "cell_type": "markdown",
   "metadata": {},
   "source": [
    "## Baseline Scenario\n",
    "\n",
    "#### Fixed Split:\n",
    "\n",
    "- Bandwidth: 50% to user equipment, 50% to sensors\n",
    "- Computational power: 50% to user equipment, 50% to sensors"
   ]
  },
  {
   "cell_type": "code",
   "execution_count": null,
   "metadata": {},
   "outputs": [],
   "source": [
    "import gymnasium as gym\n",
    "import matplotlib.pyplot as plt\n",
    "\n",
    "# predefined smart city scenario\n",
    "from mobile_env.scenarios.smart_city import MComSmartCity"
   ]
  },
  {
   "cell_type": "code",
   "execution_count": null,
   "metadata": {},
   "outputs": [],
   "source": [
    "env = gym.make(\"mobile-smart_city-smart_city_handler-v0\", render_mode=\"rgb_array\")\n",
    "\n",
    "print(f\"\\nSmart city environment with {env.NUM_USERS} users, {env.NUM_SENSORS} sensors and {env.NUM_STATIONS} cells.\")"
   ]
  },
  {
   "cell_type": "code",
   "execution_count": null,
   "metadata": {},
   "outputs": [],
   "source": [
    "from IPython import display\n",
    "\n",
    "done = False\n",
    "obs, info = env.reset()\n",
    "\n",
    "for _ in range(100):\n",
    "    dummy_action = (0.50, 0.50)\n",
    "    obs, reward, terminated, truncated, info = env.step(dummy_action)\n",
    "\n",
    "    plt.imshow(env.render())\n",
    "    display.display(plt.gcf())\n",
    "    display.clear_output(wait=True)"
   ]
  },
  {
   "cell_type": "code",
   "execution_count": null,
   "metadata": {},
   "outputs": [],
   "source": [
    "scalar_results, kpi_results, ue_results, bs_results, ss_results = env.monitor.load_results()\n",
    "\n",
    "scalar_results"
   ]
  },
  {
   "cell_type": "code",
   "execution_count": null,
   "metadata": {},
   "outputs": [],
   "source": [
    "kpi_results"
   ]
  },
  {
   "cell_type": "code",
   "execution_count": null,
   "metadata": {},
   "outputs": [],
   "source": [
    "ue_results"
   ]
  },
  {
   "cell_type": "code",
   "execution_count": null,
   "metadata": {},
   "outputs": [],
   "source": [
    "ss_results"
   ]
  },
  {
   "cell_type": "code",
   "execution_count": null,
   "metadata": {},
   "outputs": [],
   "source": [
    "bs_results"
   ]
  },
  {
   "cell_type": "code",
   "execution_count": null,
   "metadata": {},
   "outputs": [],
   "source": [
    "data = kpi_results.agg(['min', 'max', 'mean'])\n",
    "data"
   ]
  },
  {
   "cell_type": "code",
   "execution_count": null,
   "metadata": {},
   "outputs": [],
   "source": [
    "data = scalar_results.agg(['min', 'max', 'mean'])\n",
    "data"
   ]
  },
  {
   "cell_type": "code",
   "execution_count": null,
   "metadata": {},
   "outputs": [],
   "source": [
    "data = ue_results.reset_index()\n",
    "data = data.groupby('UE ID').agg(['mean', 'min', 'max'])\n",
    "data = data.drop('Time Step', axis='columns')\n",
    "data"
   ]
  },
  {
   "cell_type": "code",
   "execution_count": null,
   "metadata": {},
   "outputs": [],
   "source": [
    "data = ss_results.reset_index()\n",
    "data = data.groupby('Sensor ID').agg(['mean', 'min', 'max'])\n",
    "data = data.drop('Time Step', axis='columns')\n",
    "data"
   ]
  },
  {
   "cell_type": "code",
   "execution_count": null,
   "metadata": {},
   "outputs": [],
   "source": [
    "data = bs_results.reset_index()\n",
    "data = data.groupby('BS ID').agg(['mean', 'min', 'max'])\n",
    "data = data.drop('Time Step', axis='columns')\n",
    "data"
   ]
  },
  {
   "cell_type": "code",
   "execution_count": null,
   "metadata": {},
   "outputs": [],
   "source": [
    "import matplotlib.pyplot as plt\n",
    "\n",
    "def plot_kpi_metrics():\n",
    "    # Plot kpi metrics\n",
    "    for metric in kpi_results.columns:\n",
    "        plt.figure(figsize=(12, 8))\n",
    "        kpi_results[metric].plot()\n",
    "        plt.title(f\"{metric}\")\n",
    "        plt.xlabel(\"Time Step\")\n",
    "        plt.ylabel(\"Value\")\n",
    "        plt.grid(True)\n",
    "        plt.show()\n",
    "\n",
    "plot_kpi_metrics()"
   ]
  },
  {
   "cell_type": "code",
   "execution_count": null,
   "metadata": {},
   "outputs": [],
   "source": [
    "import pandas as pd\n",
    "import time\n",
    "\n",
    "# Reset environment and initialize variables\n",
    "done = False\n",
    "obs, info = env.reset()\n",
    "all_kpi_means = []  # List to store mean metrics for each episode\n",
    "episode_infos = []\n",
    "\n",
    "# Run for 100 time steps for 100 episodes\n",
    "for episode in range(100):\n",
    "    obs, info = env.reset()\n",
    "    print(f\"Starting Episode {episode + 1}\")\n",
    "    episode_start_time = time.time()  # Start timing the episode\n",
    "\n",
    "    for t in range(100):\n",
    "        # Perform dummy action\n",
    "        dummy_action = (0.50, 0.50)\n",
    "        obs, reward, terminated, truncated, info = env.step(dummy_action)\n",
    "\n",
    "        # Check termination condition\n",
    "        if terminated or truncated:\n",
    "            break\n",
    "    \n",
    "    # Calculate and store the episode duration\n",
    "    episode_duration = time.time() - episode_start_time\n",
    "    print(f\"Completed Episode {episode + 1}: {episode_duration}\")\n",
    "\n",
    "    # Load results after the episode\n",
    "    _, kpi_results, _, _, _ = env.monitor.load_results()\n",
    "\n",
    "    # Compute mean of metrics over the episode\n",
    "    kpi_mean = kpi_results.mean()  # Calculate mean for each metric\n",
    "    all_kpi_means.append(kpi_mean)\n",
    "\n",
    "    # Add episode-level information to the list\n",
    "    episode_info = {\n",
    "        \"Episode\": episode + 1,\n",
    "        \"Total Reward\": info.get(\"episode reward\"),\n",
    "        \"Queue Size Transferred Jobs UE\": info.get(\"bs trans. ue\"),\n",
    "        \"Queue Size Transferred Jobs Sensor\": info.get(\"bs trans. ss\"),\n",
    "        \"Queue Size Accomplished Jobs UE\": info.get(\"bs accomp. us\"),\n",
    "        \"Queue Size Accomplished Jobs Sensor\": info.get(\"bs accomp. ss\"),\n",
    "    }\n",
    "    episode_infos.append(episode_info)\n",
    "\n",
    "    print(f\"Mean Reward for Episode: {episode_info['Total Reward']/100:.2f}\")\n",
    "\n",
    "\n",
    "# Convert all_kpi_means and episode_infos to DataFrames\n",
    "episode_infos_df = pd.DataFrame(episode_infos)\n",
    "all_kpi_means_df = pd.DataFrame(all_kpi_means)\n",
    "\n",
    "# Display mean KPI metrics for each episode\n",
    "print(episode_infos_df)\n",
    "print(all_kpi_means_df)\n",
    "\n",
    "# Save results to CSV files\n",
    "episode_infos_df.to_csv(\"episode_infos.csv\", index=False)\n",
    "all_kpi_means_df.to_csv(\"kpi_means_per_episode.csv\", index=False)"
   ]
  }
 ],
 "metadata": {
  "kernelspec": {
   "display_name": "Python 3",
   "language": "python",
   "name": "python3"
  },
  "language_info": {
   "codemirror_mode": {
    "name": "ipython",
    "version": 3
   },
   "file_extension": ".py",
   "mimetype": "text/x-python",
   "name": "python",
   "nbconvert_exporter": "python",
   "pygments_lexer": "ipython3",
   "version": "3.9.6"
  }
 },
 "nbformat": 4,
 "nbformat_minor": 2
}
