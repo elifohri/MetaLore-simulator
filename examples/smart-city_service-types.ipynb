{
 "cells": [
  {
   "cell_type": "markdown",
   "metadata": {},
   "source": [
    "# 4 Different Service Type Scenarios in Decentralized Metaverse Simulation\n",
    "\n",
    "## Scenario 1: Video Streaming for Augmented Reality (AR) Entertainment\n",
    "- **Service Type**: AR-based video streaming (high bandwidth, moderate latency tolerance).\n",
    "- **Description**: Simulates users in the metaverse consuming live-streamed AR entertainment content. Focus on high-quality, bandwidth-intensive content like sports events or concerts in AR.\n",
    "  \n",
    "### Key Characteristics:\n",
    "- **Bandwidth**: High (large video files need to be streamed).\n",
    "- **Latency Tolerance**: Moderate (buffering should be minimized).\n",
    "- **Computation Requirement**: Low to moderate (content decoding and AR rendering).\n",
    "- **Device Mobility**: Moderate to high (users move, requiring handovers).\n",
    "- **Example Metrics**: \n",
    "  - Packet size: Large\n",
    "  - Bandwidth usage: 80-100% of available bandwidth\n",
    "  - Acceptable latency: 100 ms to 500 ms\n",
    "  - Priority: Moderate\n",
    "\n",
    "### Scenario Setup:\n",
    "- **Devices**: UEs are AR headsets.\n",
    "- **Base Station**: Allocates significant bandwidth but needs lower computational power.\n",
    "- **Job Generation**: Video frames streamed to UEs with minimal buffering.\n",
    "\n",
    "---\n"
   ]
  },
  {
   "cell_type": "markdown",
   "metadata": {},
   "source": [
    "## Scenario 2: Smart City IoT Sensors (Low-latency, Low-bandwidth)\n",
    "- **Service Type**: IoT sensors for smart city infrastructure (low bandwidth, low latency).\n",
    "- **Description**: Thousands of IoT sensors deployed in a smart city send small data packets to the base station. The system ensures low-latency delivery for real-time response.\n",
    "\n",
    "### Key Characteristics:\n",
    "- **Bandwidth**: Low (small data packets).\n",
    "- **Latency Tolerance**: Very low (real-time response is critical).\n",
    "- **Computation Requirement**: Low (basic data forwarding).\n",
    "- **Device Mobility**: Low (stationary sensors).\n",
    "- **Example Metrics**:\n",
    "  - Packet size: Small\n",
    "  - Bandwidth usage: 10-30% of total available\n",
    "  - Acceptable latency: 10 ms to 50 ms\n",
    "  - Priority: High\n",
    "\n",
    "### Scenario Setup:\n",
    "- **Devices**: Thousands of stationary IoT sensors.\n",
    "- **Base Station**: Processes and forwards packets with minimal delay.\n",
    "- **Job Generation**: Periodic data packets from sensors requiring real-time processing.\n",
    "\n",
    "---\n"
   ]
  },
  {
   "cell_type": "markdown",
   "metadata": {},
   "source": [
    "\n",
    "## Scenario 3: VR-Based Immersive Gaming (High Computation, Moderate Bandwidth)\n",
    "- **Service Type**: VR immersive multiplayer gaming (high computation, moderate latency).\n",
    "- **Description**: Users engage in immersive VR gaming. Low-latency communication and high computational resources are needed for smooth gameplay, especially in multiplayer modes.\n",
    "\n",
    "### Key Characteristics:\n",
    "- **Bandwidth**: Moderate to high (game data updates).\n",
    "- **Latency Tolerance**: Low to moderate (impacts gameplay).\n",
    "- **Computation Requirement**: High (for rendering, physics, game updates).\n",
    "- **Device Mobility**: High (frequent handovers).\n",
    "- **Example Metrics**:\n",
    "  - Packet size: Medium\n",
    "  - Bandwidth usage: 50-70% of available\n",
    "  - Acceptable latency: 50 ms to 150 ms\n",
    "  - Priority: High\n",
    "\n",
    "### Scenario Setup:\n",
    "- **Devices**: VR headsets and motion sensors.\n",
    "- **Base Station**: Handles game interactions, rendering, and communication between players.\n",
    "- **Job Generation**: Real-time rendering updates and player tracking with significant computational loads.\n",
    "\n",
    "---\n"
   ]
  },
  {
   "cell_type": "markdown",
   "metadata": {},
   "source": [
    "\n",
    "## Scenario 4: Emergency Services (Critical Communications)\n",
    "- **Service Type**: Emergency communications for disaster management (low bandwidth, extremely low latency).\n",
    "- **Description**: Specialized communication devices used by emergency services in disaster scenarios. Prioritizes these communications to ensure minimal latency and high reliability, even under congestion.\n",
    "\n",
    "### Key Characteristics:\n",
    "- **Bandwidth**: Low (voice communications and location data).\n",
    "- **Latency Tolerance**: Extremely low (instantaneous communication needed).\n",
    "- **Computation Requirement**: Low (basic data processing).\n",
    "- **Device Mobility**: High (emergency personnel move).\n",
    "- **Example Metrics**:\n",
    "  - Packet size: Small (voice and location data)\n",
    "  - Bandwidth usage: 10-20% of available\n",
    "  - Acceptable latency: <10 ms\n",
    "  - Priority: Highest\n",
    "\n",
    "### Scenario Setup:\n",
    "- **Devices**: Emergency UEs equipped with GPS and voice communication.\n",
    "- **Base Station**: Prioritizes emergency UEs, ensuring no dropped packets and minimal delay.\n",
    "- **Job Generation**: Low data and voice communication with extremely high reliability and low latency.\n",
    "\n",
    "---\n"
   ]
  },
  {
   "cell_type": "markdown",
   "metadata": {},
   "source": [
    "## Summary of the Four Scenarios\n",
    "\n",
    "| Scenario                            | Bandwidth Usage    | Latency Requirement     | Computation Need  | Device Mobility | Priority |\n",
    "|-------------------------------------|--------------------|-------------------------|-------------------|-----------------|----------|\n",
    "| **Video Streaming (AR)**            | High (80-100%)     | Moderate (100-500 ms)    | Low to Moderate   | High            | Moderate |\n",
    "| **Smart City IoT Sensors**          | Low (10-30%)       | Very Low (10-50 ms)      | Low               | Low             | High     |\n",
    "| **VR Immersive Gaming**             | Moderate to High   | Low to Moderate (50-150 ms) | High              | High            | High     |\n",
    "| **Emergency Services**              | Low (10-20%)       | Extremely Low (<10 ms)   | Low               | High            | Highest  |\n"
   ]
  },
  {
   "cell_type": "markdown",
   "metadata": {},
   "source": []
  }
 ],
 "metadata": {
  "language_info": {
   "name": "python"
  }
 },
 "nbformat": 4,
 "nbformat_minor": 2
}
