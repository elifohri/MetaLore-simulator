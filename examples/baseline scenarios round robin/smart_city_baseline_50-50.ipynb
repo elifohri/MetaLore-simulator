{
 "cells": [
  {
   "cell_type": "markdown",
   "metadata": {},
   "source": [
    "## Baseline Scenario\n",
    "\n",
    "#### Fixed Split:\n",
    "\n",
    "- Bandwidth: 50% to user equipment, 50% to sensors\n",
    "- Computational power: 50% to user equipment, 50% to sensors"
   ]
  },
  {
   "cell_type": "code",
   "execution_count": null,
   "metadata": {},
   "outputs": [],
   "source": [
    "import gymnasium as gym\n",
    "import matplotlib.pyplot as plt\n",
    "\n",
    "# predefined smart city scenario\n",
    "from mobile_env.scenarios.smart_city import MComSmartCity"
   ]
  },
  {
   "cell_type": "code",
   "execution_count": null,
   "metadata": {},
   "outputs": [],
   "source": [
    "env = gym.make(\"mobile-smart_city-smart_city_handler-v0\", render_mode=\"rgb_array\")\n",
    "\n",
    "print(f\"\\nSmart city environment with {env.NUM_USERS} users, {env.NUM_SENSORS} sensors and {env.NUM_STATIONS} cells.\")"
   ]
  },
  {
   "cell_type": "code",
   "execution_count": null,
   "metadata": {},
   "outputs": [],
   "source": [
    "from IPython import display\n",
    "import cProfile\n",
    "import pstats\n",
    "\n",
    "profiler = cProfile.Profile()\n",
    "done = False\n",
    "obs, info = env.reset()\n",
    "total_episode_reward = 0\n",
    "total_reward_over_time = []\n",
    "\n",
    "for _ in range(100):\n",
    "    dummy_action = (0.50, 0.50)\n",
    "    \n",
    "    # Profile the step function\n",
    "    profiler.enable()\n",
    "    obs, reward, terminated, truncated, info = env.step(dummy_action)\n",
    "    profiler.disable()\n",
    "    \n",
    "    total_episode_reward += reward\n",
    "    total_reward_over_time.append(total_episode_reward)\n",
    "\n",
    "    plt.imshow(env.render())\n",
    "    display.display(plt.gcf())\n",
    "    display.clear_output(wait=True)"
   ]
  },
  {
   "cell_type": "code",
   "execution_count": null,
   "metadata": {},
   "outputs": [],
   "source": [
    "# Display profiling results\n",
    "stats = pstats.Stats(profiler)\n",
    "stats.sort_stats(\"cumulative\").print_stats(20)  # Show top 20 functions by cumulative time"
   ]
  },
  {
   "cell_type": "code",
   "execution_count": null,
   "metadata": {},
   "outputs": [],
   "source": [
    "profiler.dump_stats(\"step_function_profile.prof\")"
   ]
  },
  {
   "cell_type": "code",
   "execution_count": null,
   "metadata": {},
   "outputs": [],
   "source": [
    "\n",
    "stats = pstats.Stats(\"step_function_profile.prof\")\n",
    "stats.sort_stats(\"cumulative\").print_stats(90)"
   ]
  },
  {
   "cell_type": "code",
   "execution_count": null,
   "metadata": {},
   "outputs": [],
   "source": [
    "env.plot_rewards()\n",
    "\n",
    "# Plot the reward over time\n",
    "plt.figure(figsize=(12, 6))\n",
    "plt.plot(range(1, len(total_reward_over_time) + 1), total_reward_over_time, marker='o')\n",
    "plt.title('Total Reward Over Time')\n",
    "plt.xlabel('Time Step')\n",
    "plt.ylabel('Total Reward')\n",
    "plt.grid(True)\n",
    "plt.show()"
   ]
  },
  {
   "cell_type": "code",
   "execution_count": null,
   "metadata": {},
   "outputs": [],
   "source": [
    "# Plot other environment metrics\n",
    "env.plot_queue_sizes()\n",
    "env.plot_resource_allocations()"
   ]
  },
  {
   "cell_type": "code",
   "execution_count": null,
   "metadata": {},
   "outputs": [],
   "source": [
    "env.plot_delayed_packets()\n",
    "env.plot_total_delayed_packets()"
   ]
  },
  {
   "cell_type": "code",
   "execution_count": null,
   "metadata": {},
   "outputs": [],
   "source": [
    "env.plot_throughput()\n",
    "env.plot_cumulative_throughput()"
   ]
  },
  {
   "cell_type": "code",
   "execution_count": null,
   "metadata": {},
   "outputs": [],
   "source": [
    "profiler.dump_stats(\"step_function_profile.prof\")\n"
   ]
  }
 ],
 "metadata": {
  "kernelspec": {
   "display_name": "Python 3",
   "language": "python",
   "name": "python3"
  },
  "language_info": {
   "codemirror_mode": {
    "name": "ipython",
    "version": 3
   },
   "file_extension": ".py",
   "mimetype": "text/x-python",
   "name": "python",
   "nbconvert_exporter": "python",
   "pygments_lexer": "ipython3",
   "version": "3.9.6"
  }
 },
 "nbformat": 4,
 "nbformat_minor": 2
}
