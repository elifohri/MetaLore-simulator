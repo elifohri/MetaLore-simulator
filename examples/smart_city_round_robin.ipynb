{
 "cells": [
  {
   "cell_type": "markdown",
   "metadata": {},
   "source": [
    "# Overview of `mobile-env:smart-city` for Smart City Simulation and Digital Twin Synchronization"
   ]
  },
  {
   "cell_type": "markdown",
   "metadata": {},
   "source": [
    "`mobile-env:smart-city` is an open-source Python environment designed for simulating decentralized Metaverse environments. It provides a flexible and extendable platform for experimenting resource optimization with reinforcement learning (RL) and control algorithms in dynamic environments.\n",
    "\n",
    "By enabling simulations with moving users, stationary sensors, and flexible configurations, `mobile-env:smart-city` allows the users to model realistic scenarios, assess the efficiency of resource utilization and fine-tune algorithms for real-time synchronization between a digital twin and the actual environment."
   ]
  },
  {
   "cell_type": "markdown",
   "metadata": {},
   "source": [
    "## Key Features of `mobile-env:smart-city`"
   ]
  },
  {
   "cell_type": "markdown",
   "metadata": {},
   "source": [
    "* **Flexibility and Customizability**:\n",
    "   - `mobile-env:smart-city` is written entirely in Python, making it easy to modify and extend.\n",
    "   - The environment allows the simulation of a smart city scenario with mobile users (UEs), stationary sensors and a single base station (BS).\n",
    "   - The number of UEs, sensors, their movement patterns, communication properties and the structure of the network can all be customized to suit a variety of experimental needs.\n",
    "\n",
    "* **Compatibility with Gymnasium**:\n",
    "   - `mobile-env:smart-city` adheres to the [Gymnasium](https://gymnasium.farama.org/) (formerly [OpenAI Gym](https://gym.openai.com/)) interface. This ensures compatibility with most reinforcement learning libraries and frameworks, allowing users to experiment with different RL algorithms with minimal integration effort.\n",
    "   - Using the Gymnasium interface allows easy integration with popular RL libraries such as Stable-Baselines3, RLlib, or custom-built agents.\n",
    "\n",
    "* **Not Limited to RL**:\n",
    "   - While the environment is designed with RL in mind, `mobile-env:smart-city` is not restricted to RL algorithms. It can also be used to implement and test conventional control policies or simple rule-based benchmark algorithms. This flexibility enables users to benchmark RL algorithms against traditional approaches.\n",
    "\n",
    "* **Realistic Network Simulation**:\n",
    "   - The environment includes realistic simulations of mobile user equipment (UEs), cellular network base stations (BS) and sensors. \n",
    "   - UEs move dynamically and their communication quality (e.g., signal-to-noise ratio) changes based on their position relative to the base station. \n",
    "   - The scenarios are focused on exploring dynamic resource allocation in cellular networks for smart city applications.\n",
    "\n",
    "* **Extensibility**:\n",
    "   - Developers can easily extend the functionality of `mobile-env:smart-city` by modifying or adding custom observation spaces, action spaces or reward functions.\n",
    "   - It allows simulation of dynamic scenarios, for example, by implementing custom movement patterns for UEs, different scheduling policies for base stations or adding new types of observations and rewards based on the needs of the experiment."
   ]
  },
  {
   "cell_type": "markdown",
   "metadata": {},
   "source": [
    "## Use Case for `mobile-env:smart-city`"
   ]
  },
  {
   "cell_type": "markdown",
   "metadata": {},
   "source": [
    "This environment provides a platform for testing and evaluating resource allocation strategies, network control algorithms and Metaverse-related optimizations in a smart city environment. Reinforcement learning agents can be trained and evaluated in the environment to dynamically manage resources such as bandwidth and computational power for multiple devices and sensors. \n",
    "\n",
    "Its flexibility, ease of use and compatibility with Gymnasium make it an ideal tool for working on smart city or decentralized Metaverse applications."
   ]
  },
  {
   "cell_type": "markdown",
   "metadata": {},
   "source": [
    "## Customized gymnasium environment: `mobile-env:smart-city`"
   ]
  },
  {
   "cell_type": "markdown",
   "metadata": {},
   "source": [
    "**Demonstration Steps:**\n",
    "\n",
    "This demonstration consists of the following steps:\n",
    "\n",
    "1. Installation and usage of `mobile-env:smart-city` with dummy actions\n",
    "2. Configuration of `mobile-env:smart-city` and adjustment of the observation space\n",
    "\n",
    "In additional notebooks within this project, you will find implementations of both a baseline scenario and a reinforcement learning (RL) approach for comparison. \n",
    "\n",
    "- The **baseline scenario** employs fixed policy splits and conventional control methods to allocate resources, providing a straightforward comparison point for evaluating the benefits of RL. \n",
    "- The **RL approach**, on the other hand, uses dynamic decision-making to optimize resource allocation in response to changing network conditions. \n",
    "\n",
    "By examining these two approaches side by side, we can assess the effectiveness and adaptability of RL algorithms over traditional static policies, providing insights into their potential for complex, dynamic environments like smart cities."
   ]
  },
  {
   "cell_type": "markdown",
   "metadata": {},
   "source": [
    "### Step 1: Installation and usage of `mobile-env:smart-city`"
   ]
  },
  {
   "cell_type": "markdown",
   "metadata": {},
   "source": [
    "#### Importing necessary libraries:"
   ]
  },
  {
   "cell_type": "markdown",
   "metadata": {},
   "source": [
    "- `gymnasium` is the core framework for creating and using custom environments\n",
    "- `mobile_env` is the custom environment that we're demonstrating\n",
    "- `matplotlib` is used for visualizing the environment's state"
   ]
  },
  {
   "cell_type": "code",
   "execution_count": null,
   "metadata": {},
   "outputs": [],
   "source": [
    "# Step 1: Import necessary libraries\n",
    "\n",
    "import gymnasium as gym\n",
    "\n",
    "# importing mobile_env automatically registers the predefined scenarios in Gym\n",
    "import mobile_env\n",
    "\n",
    "import matplotlib.pyplot as plt"
   ]
  },
  {
   "cell_type": "code",
   "execution_count": null,
   "metadata": {},
   "outputs": [],
   "source": [
    "# predefined smart city scenario\n",
    "from mobile_env.scenarios.smart_city import MComSmartCity\n",
    "\n",
    "# easy access to the default smart city configuration, parameters and settings\n",
    "MComSmartCity.default_config()"
   ]
  },
  {
   "cell_type": "markdown",
   "metadata": {},
   "source": [
    "#### Environment Registration"
   ]
  },
  {
   "cell_type": "markdown",
   "metadata": {},
   "source": [
    "In Gymnasium, registering a new environment is essential when defining a custom environment that can be accessed easily and used with various reinforcement learning frameworks."
   ]
  },
  {
   "cell_type": "code",
   "execution_count": null,
   "metadata": {},
   "outputs": [],
   "source": [
    "from gymnasium.envs.registration import register\n",
    "\n",
    "# Register the new environment\n",
    "register(\n",
    "    id='mobile-smart_city-smart_city_handler-v0',\n",
    "    entry_point='mobile_env.scenarios.smart_city:MComSmartCity',\n",
    "    kwargs={'config': {}, 'render_mode': None}\n",
    ")"
   ]
  },
  {
   "cell_type": "code",
   "execution_count": null,
   "metadata": {},
   "outputs": [],
   "source": [
    "# List all registered environments\n",
    "env_specs = gym.envs.registry.keys()\n",
    "print(f\"Env specs: {env_specs}\")\n",
    "\n",
    "# Verify if specific environment is listed\n",
    "assert 'mobile-smart_city-smart_city_handler-v0' in env_specs, \"Environment not registered correctly\"\n",
    "print(\"Environment 'mobile-smart_city-smart_city_handler-v0' registered successfully!\")"
   ]
  },
  {
   "cell_type": "markdown",
   "metadata": {},
   "source": [
    "### Step 2: Extending `mobile-env:smart-city` and tracking custom metrics"
   ]
  },
  {
   "cell_type": "markdown",
   "metadata": {},
   "source": [
    "`mobile-env:smart-city` allows to define and track custom metrics during the training and testing phases in reinforcement learning (RL). This is essential for evaluating and understanding how well RL agents and different baseline policies perform in a decentralized smart city scenario.\n",
    "\n",
    "It defines an interface for metrics that record values per user equipment and per sensor (e.g. utility per device), basestation (e.g. number of connections per station) or time step (e.g. average utility of device).\n",
    "\n",
    "**The following key performance indicators (KPIs) are monitored:**\n",
    "\n",
    "- **Number of connections:** Tracks the total number of active user and sensor connections in the network.\n",
    "- **Utility metrics:** Measures the utility of user equipments (UEs) and sensors in terms of network performance.\n",
    "- **Distance to base stations:** Monitors how far UEs and sensors are from the base station, which is essential to understand their connectivity strength.\n",
    "- **Signal-to-Noise Ratio (SNR):** Measures the quality of the connection between UEs/sensors and base stations.\n",
    "- **Throughput:** Calculates the data transfer rate for UEs and sensors, as well as for the base station.\n",
    "- **Bandwidth and computational resource utilization:** Monitors how much of the available bandwidth and computational power is being used by UEs and sensors.\n",
    "\n",
    "Later, we load the monitored metrics as `pandas` data frames."
   ]
  },
  {
   "cell_type": "code",
   "execution_count": null,
   "metadata": {},
   "outputs": [],
   "source": [
    "import numpy as np\n",
    "\n",
    "# overall number of active connections for UEs\n",
    "def overall_connections(sim):\n",
    "    return sum([len(conns) for conns in sim.connections.values()])\n",
    "\n",
    "# overall number of active connections for sensors\n",
    "def overall_connections_sensor(sim):\n",
    "    return sum(len(conns) for conns in sim.connections_sensor.values())\n",
    "\n",
    "\n",
    "# monitors utility per user equipment\n",
    "def user_utility(sim):\n",
    "    return {ue.ue_id: utility for ue, utility in sim.utilities.items()}\n",
    "\n",
    "# monitors utility per sensor\n",
    "def user_utility_sensor(sim):\n",
    "    return {sensor.sensor_id: utility for sensor, utility in sim.utilities_sensor.items()}\n",
    "\n",
    "\n",
    "# monitors each user equipment's distance to their closest base station\n",
    "def user_closest_distance(sim):\n",
    "    # position vector of basestation\n",
    "    bs = next(iter(sim.stations.values()))  # Get the single base station\n",
    "    bpos = np.array([bs.x, bs.y])  # Base station position as a vector\n",
    "\n",
    "\n",
    "    distances = {}    \n",
    "    for ue_id, ue in sim.users.items():\n",
    "        upos = np.array([[ue.x, ue.y]])\n",
    "        dist = np.sqrt(np.sum((bpos - upos)**2))\n",
    "        \n",
    "        distances[ue_id] = dist\n",
    "    \n",
    "    return distances\n",
    "\n",
    "# monitors each sensor's distance to their closest base station\n",
    "def sensor_closest_distance(sim):\n",
    "    # position vector of basestations\n",
    "    bs = next(iter(sim.stations.values()))  # Get the single base station\n",
    "    bpos = np.array([bs.x, bs.y])  # Base station position as a vector\n",
    "\n",
    "    distances = {}    \n",
    "    for sensor_id, sensor in sim.sensors.items():\n",
    "        spos = np.array([[sensor.x, sensor.y]])\n",
    "        dist = np.sqrt(np.sum((bpos - spos)**2))\n",
    "        \n",
    "        distances[sensor_id] = dist\n",
    "    \n",
    "    return distances\n",
    "\n",
    "\n",
    "# number of UE connections per basestation\n",
    "def station_connections_ue(sim):\n",
    "    return {bs.bs_id: len(conns) for bs, conns in sim.connections.items()}\n",
    "\n",
    "# number of sensor connections per basestation\n",
    "def station_connections_sensor(sim):\n",
    "    return {bs.bs_id: len(conns) for bs, conns in sim.connections_sensor.items()}"
   ]
  },
  {
   "cell_type": "markdown",
   "metadata": {},
   "source": [
    "Throughput is a key metric that measures the amount of data transferred successfully over the network."
   ]
  },
  {
   "cell_type": "code",
   "execution_count": null,
   "metadata": {},
   "outputs": [],
   "source": [
    "# add throughput metrics\n",
    "\n",
    "def calculate_throughput_bs(sim):\n",
    "    \"\"\"Calculate throughput for all base stations in the environment.\"\"\"\n",
    "    throughput_bs = {}\n",
    "\n",
    "    for bs in sim.stations.values():\n",
    "        # Sum data rates for all UEs connected to the base station\n",
    "        ue_throughput = sum(sim.datarates[(bs, ue)] for ue in sim.connections[bs])\n",
    "\n",
    "        # Sum data rates for all sensors connected to the base station\n",
    "        sensor_throughput = sum(sim.datarates_sensor[(bs, sensor)] for sensor in sim.connections_sensor[bs])\n",
    "\n",
    "        # Total throughput for the base station\n",
    "        total_throughput = ue_throughput + sensor_throughput\n",
    "\n",
    "        # Store the throughput value for this base station\n",
    "        throughput_bs[bs.bs_id] = total_throughput\n",
    "\n",
    "    return throughput_bs\n",
    "\n",
    "def calculate_throughput_ue(sim):\n",
    "    \"\"\"Calculate the throughput for UEs in the environment.\"\"\"\n",
    "    \n",
    "    # Initialize dictionary to store throughput for each UE\n",
    "    ue_throughput = {}\n",
    "\n",
    "    # Calculate throughput for UEs\n",
    "    for ue in sim.users.values():\n",
    "        # Get the total data rate for this UE\n",
    "        total_data_rate_ue = sum(sim.datarates[(bs, ue)] for bs in sim.stations.values() if (bs, ue) in sim.datarates)\n",
    "        \n",
    "        # Assume time window of 1 second for throughput calculation\n",
    "        ue_throughput[ue.ue_id] = total_data_rate_ue * 1  # Throughput in Mbps\n",
    "\n",
    "    return ue_throughput\n",
    "\n",
    "\n",
    "def calculate_throughput_sensor(sim):\n",
    "    \"\"\"Calculate the throughput for sensors in the environment.\"\"\"\n",
    "    \n",
    "    # Initialize dictionaries to store throughput for each sensor\n",
    "    sensor_throughput = {}\n",
    "\n",
    "    # Calculate throughput for sensors\n",
    "    for sensor in sim.sensors.values():\n",
    "        # Get the total data rate for this sensor\n",
    "        total_data_rate_sensor = sum(sim.datarates_sensor[(bs, sensor)] for bs in sim.stations.values() if (bs, sensor) in sim.datarates_sensor)\n",
    "        \n",
    "        # Assume time window of 1 second for throughput calculation\n",
    "        sensor_throughput[sensor.sensor_id] = total_data_rate_sensor * 1  # Throughput in Mbps\n",
    "        \n",
    "    return sensor_throughput"
   ]
  },
  {
   "cell_type": "markdown",
   "metadata": {},
   "source": [
    "SNR is a key metric for measuring the quality of the signal between UEs/sensors and base stations."
   ]
  },
  {
   "cell_type": "code",
   "execution_count": null,
   "metadata": {},
   "outputs": [],
   "source": [
    "# add snr values as metrics\n",
    "\n",
    "def calculate_snr_ue(sim):\n",
    "    \"\"\"Calculate the SNR for UEs in the environment.\"\"\"\n",
    "    \n",
    "    snr_ue = {}\n",
    "    \n",
    "    # Loop over all UEs to calculate SNR\n",
    "    for ue in sim.users.values():\n",
    "        # Find the base station connected to the UE\n",
    "        for bs in sim.stations.values():\n",
    "            if ue in sim.connections[bs]:\n",
    "                # Use the channel object to calculate the SNR between BS and UE\n",
    "                snr_value = sim.channel.snr(bs, ue)\n",
    "                snr_ue[ue.ue_id] = snr_value\n",
    "                break\n",
    "\n",
    "    return snr_ue\n",
    "\n",
    "def calculate_snr_sensor(sim):\n",
    "    \"\"\"Calculate the SNR for sensors in the environment.\"\"\"\n",
    "    \n",
    "    snr_sensor = {}\n",
    "    \n",
    "    # Loop over all sensors to calculate SNR\n",
    "    for sensor in sim.sensors.values():\n",
    "        # Find the base station connected to the sensor\n",
    "        for bs in sim.stations.values():\n",
    "            if sensor in sim.connections_sensor[bs]:\n",
    "                # Use the channel object to calculate the SNR between BS and sensor\n",
    "                snr_value = sim.channel.snr(bs, sensor)\n",
    "                snr_sensor[sensor.sensor_id] = snr_value\n",
    "                break\n",
    "\n",
    "    return snr_sensor"
   ]
  },
  {
   "cell_type": "code",
   "execution_count": null,
   "metadata": {},
   "outputs": [],
   "source": [
    " # Calculate bandwidth utilization and computational power utilization\n",
    "    \n",
    "def bandwidth_utilization_ue(sim):\n",
    "    \"\"\"Calculate the bandwidth utilization of ues for each base station.\"\"\"\n",
    "    \n",
    "    bw_utilization = {}\n",
    "\n",
    "    # Iterate over all base stations\n",
    "    for bs in sim.stations.values():\n",
    "        allocated_bw_ue = sim.resource_allocations[bs]['bandwidth_for_ues']\n",
    "        bw_utilization[bs.bs_id] = allocated_bw_ue\n",
    "\n",
    "    return bw_utilization\n",
    "\n",
    "def bandwidth_utilization_sensor(sim):\n",
    "    \"\"\"Calculate the bandwidth utilization of sensors for each base station.\"\"\"\n",
    "    \n",
    "    bw_utilization = {}\n",
    "\n",
    "    # Iterate over all base stations\n",
    "    for bs in sim.stations.values():\n",
    "        allocated_bw_sensor = sim.resource_allocations[bs]['bandwidth_for_sensors']\n",
    "        bw_utilization[bs.bs_id] = allocated_bw_sensor\n",
    "\n",
    "    return bw_utilization\n",
    "\n",
    "\n",
    "def computational_power_utilization_ue(sim):\n",
    "    \"\"\"Calculate the computational power utilization of ues for each base station.\"\"\"\n",
    "    \n",
    "    cpu_utilization = {}\n",
    "\n",
    "    for bs in sim.stations.values():\n",
    "        allocated_cpu_ue = sim.resource_allocations[bs]['computational_power_for_ues']\n",
    "        cpu_utilization[bs.bs_id] = allocated_cpu_ue\n",
    "\n",
    "    return cpu_utilization\n",
    "\n",
    "def computational_power_utilization_sensor(sim):\n",
    "    \"\"\"Calculate the computational power utilization of sensors for each base station.\"\"\"\n",
    "    \n",
    "    cpu_utilization = {}\n",
    "\n",
    "    for bs in sim.stations.values():\n",
    "        allocated_cpu_sensor = sim.resource_allocations[bs]['computational_power_for_sensors']\n",
    "        cpu_utilization[bs.bs_id] = allocated_cpu_sensor\n",
    "\n",
    "    return cpu_utilization\n"
   ]
  },
  {
   "cell_type": "markdown",
   "metadata": {},
   "source": [
    "All custom metrics are registered in the configuration for the mobile-env environment."
   ]
  },
  {
   "cell_type": "code",
   "execution_count": null,
   "metadata": {},
   "outputs": [],
   "source": [
    "# add custom metrics to config of environment\n",
    "config = {\"metrics\": {\n",
    "            \"scalar_metrics\": {\"overall connections\": overall_connections, \"overall connections sensors\": overall_connections_sensor},\n",
    "            \"ue_metrics\": {\"distance station\": user_closest_distance, \"user utility\": user_utility, \"user throughput\": calculate_throughput_ue, \"user snr\": calculate_snr_ue },\n",
    "            \"bs_metrics\": {\"station connections UE\": station_connections_ue,\"station connections sensors\": station_connections_sensor, \"station throughput\": calculate_throughput_bs, \"bw utilization for users\": bandwidth_utilization_ue, \"bw utilization for sensors\": bandwidth_utilization_sensor, \"comp power utilization ue\": computational_power_utilization_ue, \"comp power utilization sensor\": computational_power_utilization_sensor},\n",
    "            \"ss_metrics\": {\"distance station sensors\": sensor_closest_distance, \"sensor utility\": user_utility_sensor, \"sensor throughput\": calculate_throughput_sensor, \"sensor snr\": calculate_snr_sensor}\n",
    "            }\n",
    "         }"
   ]
  },
  {
   "cell_type": "markdown",
   "metadata": {},
   "source": [
    "#### Environment Creation"
   ]
  },
  {
   "cell_type": "markdown",
   "metadata": {},
   "source": [
    "Create the simulation environment using the `make()` function, which instantiates the \"smart-city\" scenario with the configuration specified by the config parameter."
   ]
  },
  {
   "cell_type": "code",
   "execution_count": null,
   "metadata": {},
   "outputs": [],
   "source": [
    "# create a small mobile environment for a single, centralized control agent\n",
    "# pass rgb_array as render mode so the env can be rendered inside the notebook\n",
    "env = gym.make(\"mobile-smart_city-smart_city_handler-v0\", config=config, render_mode=\"rgb_array\")\n",
    "\n",
    "print(f\"\\nSmart city environment with {env.NUM_USERS} users, {env.NUM_SENSORS} sensors and {env.NUM_STATIONS} cells.\")"
   ]
  },
  {
   "cell_type": "markdown",
   "metadata": {},
   "source": [
    "#### Environment Data"
   ]
  },
  {
   "cell_type": "code",
   "execution_count": null,
   "metadata": {},
   "outputs": [],
   "source": [
    "obs, info = env.reset()\n",
    "print(\"obs:\", obs)\n",
    "print(\"info:\", info)\n",
    "\n",
    "print(\"\\nMetadata\")\n",
    "print(\"metadata:\", env.metadata)\n",
    "\n",
    "print(\"\\nRender Modes\")\n",
    "print(\"render modes:\", env.render_mode)\n",
    "\n",
    "print(\"\\nSpec:\")\n",
    "print(\"spec:\", env.spec)\n",
    "\n",
    "print(\"\\nAction Space\")\n",
    "print(\"action space:\", env.action_space)\n",
    "print(\"action space shape:\", env.action_space.shape)\n",
    "print(\"simple action:\", env.action_space.sample())\n",
    "\n",
    "print(\"\\nObservation Space\")\n",
    "print(\"observation space:\", env.observation_space)\n",
    "print(\"observation space shape:\", env.observation_space.shape)\n",
    "print(\"sample observation:\", env.observation_space.sample())\n",
    "\n",
    "print(\"\\nReward Range\")\n",
    "print(\"reward range:\", env.reward_range)\n"
   ]
  },
  {
   "cell_type": "code",
   "execution_count": null,
   "metadata": {},
   "outputs": [],
   "source": [
    "# Debug: Check what `env.render()` is returning\n",
    "print(type(env.render()), env.render().shape if isinstance(env.render(), np.ndarray) else \"Not an array\")\n"
   ]
  },
  {
   "cell_type": "markdown",
   "metadata": {},
   "source": [
    "### Step 3: Demo with Dummy Actions"
   ]
  },
  {
   "cell_type": "code",
   "execution_count": null,
   "metadata": {},
   "outputs": [],
   "source": [
    "from IPython import display\n",
    "\n",
    "# run the simulation for 20 time steps\n",
    "done = False\n",
    "obs, info = env.reset()\n",
    "\n",
    "total_episode_reward = 0\n",
    "total_reward_over_time = []  # List to store the reward at each time step\n",
    "\n",
    "for _ in range(100):\n",
    "    # here, use random dummy actions by sampling from the action space\n",
    "    dummy_action = env.action_space.sample()\n",
    "    obs, reward, terminated, truncated, info = env.step(dummy_action)\n",
    "    \n",
    "    # accumulate total reward for the episode\n",
    "    total_episode_reward += reward\n",
    "    total_reward_over_time.append(total_episode_reward) \n",
    "\n",
    "    # render the environment\n",
    "    plt.imshow(env.render())\n",
    "    display.display(plt.gcf())\n",
    "    display.clear_output(wait=True)\n",
    "    \n",
    "    \n",
    "plt.close()"
   ]
  },
  {
   "cell_type": "code",
   "execution_count": null,
   "metadata": {},
   "outputs": [],
   "source": [
    "env.plot_rewards()"
   ]
  },
  {
   "cell_type": "code",
   "execution_count": null,
   "metadata": {},
   "outputs": [],
   "source": [
    "total_reward_over_time"
   ]
  },
  {
   "cell_type": "code",
   "execution_count": null,
   "metadata": {},
   "outputs": [],
   "source": [
    "# Plot the reward over time\n",
    "plt.figure(figsize=(10, 6))\n",
    "plt.plot(range(1, len(total_reward_over_time) + 1), total_reward_over_time, marker='o')\n",
    "plt.title('Total Reward Over Time')\n",
    "plt.xlabel('Time Step')\n",
    "plt.ylabel('Total Reward')\n",
    "plt.grid(True)\n",
    "plt.show()"
   ]
  },
  {
   "cell_type": "code",
   "execution_count": null,
   "metadata": {},
   "outputs": [],
   "source": [
    "# Plot other environment metrics\n",
    "env.plot_queue_sizes()\n",
    "env.plot_resource_allocations()"
   ]
  },
  {
   "cell_type": "code",
   "execution_count": null,
   "metadata": {},
   "outputs": [],
   "source": [
    "env.plot_delayed_packets()\n",
    "env.plot_total_delayed_packets()"
   ]
  },
  {
   "cell_type": "code",
   "execution_count": null,
   "metadata": {},
   "outputs": [],
   "source": [
    "env.plot_throughput()\n",
    "env.plot_cumulative_throughput()"
   ]
  },
  {
   "cell_type": "code",
   "execution_count": null,
   "metadata": {},
   "outputs": [],
   "source": [
    "env.plot_aoi_per_device()"
   ]
  },
  {
   "cell_type": "code",
   "execution_count": null,
   "metadata": {},
   "outputs": [],
   "source": [
    "\n",
    "# load all tracked results as pandas data frames\n",
    "scalar_results, ue_results, bs_results, ss_results = env.monitor.load_results()\n",
    "\n",
    "# show general results\n",
    "scalar_results.head()"
   ]
  },
  {
   "cell_type": "code",
   "execution_count": null,
   "metadata": {},
   "outputs": [],
   "source": [
    "ue_results"
   ]
  },
  {
   "cell_type": "code",
   "execution_count": null,
   "metadata": {},
   "outputs": [],
   "source": [
    "ss_results"
   ]
  },
  {
   "cell_type": "code",
   "execution_count": null,
   "metadata": {},
   "outputs": [],
   "source": [
    "bs_results"
   ]
  },
  {
   "cell_type": "code",
   "execution_count": null,
   "metadata": {},
   "outputs": [],
   "source": [
    "data = ue_results.reset_index()\n",
    "data = data.groupby('UE ID').agg(['mean', 'min', 'max'])\n",
    "data = data.drop('Time Step', axis='columns')\n",
    "data.head()"
   ]
  },
  {
   "cell_type": "code",
   "execution_count": null,
   "metadata": {},
   "outputs": [],
   "source": [
    "data = ss_results.reset_index()\n",
    "data = data.groupby('Sensor ID').agg(['mean', 'min', 'max'])\n",
    "data = data.drop('Time Step', axis='columns')\n",
    "data.head()"
   ]
  }
 ],
 "metadata": {
  "kernelspec": {
   "display_name": "Python 3",
   "language": "python",
   "name": "python3"
  },
  "language_info": {
   "codemirror_mode": {
    "name": "ipython",
    "version": 3
   },
   "file_extension": ".py",
   "mimetype": "text/x-python",
   "name": "python",
   "nbconvert_exporter": "python",
   "pygments_lexer": "ipython3",
   "version": "3.12.3"
  }
 },
 "nbformat": 4,
 "nbformat_minor": 2
}
