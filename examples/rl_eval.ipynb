{
 "cells": [
  {
   "cell_type": "code",
   "execution_count": 1,
   "metadata": {},
   "outputs": [
    {
     "name": "stdout",
     "output_type": "stream",
     "text": [
      "Defaulting to user installation because normal site-packages is not writeable\n",
      "Requirement already satisfied: stable-baselines3==2.0.0 in /Users/elifohri/Library/Python/3.9/lib/python/site-packages (2.0.0)\n",
      "Requirement already satisfied: tensorboard in /Users/elifohri/Library/Python/3.9/lib/python/site-packages (2.19.0)\n",
      "Requirement already satisfied: pandas in /Users/elifohri/Library/Python/3.9/lib/python/site-packages (from stable-baselines3==2.0.0) (2.2.3)\n",
      "Requirement already satisfied: cloudpickle in /Users/elifohri/Library/Python/3.9/lib/python/site-packages (from stable-baselines3==2.0.0) (3.1.0)\n",
      "Requirement already satisfied: gymnasium==0.28.1 in /Users/elifohri/Library/Python/3.9/lib/python/site-packages (from stable-baselines3==2.0.0) (0.28.1)\n",
      "Requirement already satisfied: matplotlib in /Users/elifohri/Library/Python/3.9/lib/python/site-packages (from stable-baselines3==2.0.0) (3.9.3)\n",
      "Requirement already satisfied: numpy>=1.20 in /Users/elifohri/Library/Python/3.9/lib/python/site-packages (from stable-baselines3==2.0.0) (1.26.4)\n",
      "Requirement already satisfied: torch>=1.11 in /Users/elifohri/Library/Python/3.9/lib/python/site-packages (from stable-baselines3==2.0.0) (2.5.1)\n",
      "Requirement already satisfied: jax-jumpy>=1.0.0 in /Users/elifohri/Library/Python/3.9/lib/python/site-packages (from gymnasium==0.28.1->stable-baselines3==2.0.0) (1.0.0)\n",
      "Requirement already satisfied: farama-notifications>=0.0.1 in /Users/elifohri/Library/Python/3.9/lib/python/site-packages (from gymnasium==0.28.1->stable-baselines3==2.0.0) (0.0.4)\n",
      "Requirement already satisfied: importlib-metadata>=4.8.0 in /Users/elifohri/Library/Python/3.9/lib/python/site-packages (from gymnasium==0.28.1->stable-baselines3==2.0.0) (8.5.0)\n",
      "Requirement already satisfied: typing-extensions>=4.3.0 in /Users/elifohri/Library/Python/3.9/lib/python/site-packages (from gymnasium==0.28.1->stable-baselines3==2.0.0) (4.12.2)\n",
      "Requirement already satisfied: markdown>=2.6.8 in /Users/elifohri/Library/Python/3.9/lib/python/site-packages (from tensorboard) (3.7)\n",
      "Requirement already satisfied: grpcio>=1.48.2 in /Users/elifohri/Library/Python/3.9/lib/python/site-packages (from tensorboard) (1.68.1)\n",
      "Requirement already satisfied: packaging in /Users/elifohri/Library/Python/3.9/lib/python/site-packages (from tensorboard) (24.2)\n",
      "Requirement already satisfied: protobuf!=4.24.0,>=3.19.6 in /Users/elifohri/Library/Python/3.9/lib/python/site-packages (from tensorboard) (4.25.5)\n",
      "Requirement already satisfied: absl-py>=0.4 in /Users/elifohri/Library/Python/3.9/lib/python/site-packages (from tensorboard) (2.1.0)\n",
      "Requirement already satisfied: six>1.9 in /Library/Developer/CommandLineTools/Library/Frameworks/Python3.framework/Versions/3.9/lib/python3.9/site-packages (from tensorboard) (1.15.0)\n",
      "Requirement already satisfied: werkzeug>=1.0.1 in /Users/elifohri/Library/Python/3.9/lib/python/site-packages (from tensorboard) (3.1.3)\n",
      "Requirement already satisfied: tensorboard-data-server<0.8.0,>=0.7.0 in /Users/elifohri/Library/Python/3.9/lib/python/site-packages (from tensorboard) (0.7.2)\n",
      "Requirement already satisfied: setuptools>=41.0.0 in /Library/Developer/CommandLineTools/Library/Frameworks/Python3.framework/Versions/3.9/lib/python3.9/site-packages (from tensorboard) (58.0.4)\n",
      "Requirement already satisfied: zipp>=3.20 in /Users/elifohri/Library/Python/3.9/lib/python/site-packages (from importlib-metadata>=4.8.0->gymnasium==0.28.1->stable-baselines3==2.0.0) (3.21.0)\n",
      "Requirement already satisfied: sympy==1.13.1 in /Users/elifohri/Library/Python/3.9/lib/python/site-packages (from torch>=1.11->stable-baselines3==2.0.0) (1.13.1)\n",
      "Requirement already satisfied: jinja2 in /Users/elifohri/Library/Python/3.9/lib/python/site-packages (from torch>=1.11->stable-baselines3==2.0.0) (3.1.4)\n",
      "Requirement already satisfied: networkx in /Users/elifohri/Library/Python/3.9/lib/python/site-packages (from torch>=1.11->stable-baselines3==2.0.0) (3.2.1)\n",
      "Requirement already satisfied: filelock in /Users/elifohri/Library/Python/3.9/lib/python/site-packages (from torch>=1.11->stable-baselines3==2.0.0) (3.16.1)\n",
      "Requirement already satisfied: fsspec in /Users/elifohri/Library/Python/3.9/lib/python/site-packages (from torch>=1.11->stable-baselines3==2.0.0) (2024.10.0)\n",
      "Requirement already satisfied: mpmath<1.4,>=1.1.0 in /Users/elifohri/Library/Python/3.9/lib/python/site-packages (from sympy==1.13.1->torch>=1.11->stable-baselines3==2.0.0) (1.3.0)\n",
      "Requirement already satisfied: MarkupSafe>=2.1.1 in /Users/elifohri/Library/Python/3.9/lib/python/site-packages (from werkzeug>=1.0.1->tensorboard) (3.0.2)\n",
      "Requirement already satisfied: importlib-resources>=3.2.0 in /Users/elifohri/Library/Python/3.9/lib/python/site-packages (from matplotlib->stable-baselines3==2.0.0) (6.4.5)\n",
      "Requirement already satisfied: pyparsing>=2.3.1 in /Users/elifohri/Library/Python/3.9/lib/python/site-packages (from matplotlib->stable-baselines3==2.0.0) (3.2.0)\n",
      "Requirement already satisfied: python-dateutil>=2.7 in /Users/elifohri/Library/Python/3.9/lib/python/site-packages (from matplotlib->stable-baselines3==2.0.0) (2.9.0.post0)\n",
      "Requirement already satisfied: pillow>=8 in /Users/elifohri/Library/Python/3.9/lib/python/site-packages (from matplotlib->stable-baselines3==2.0.0) (11.0.0)\n",
      "Requirement already satisfied: kiwisolver>=1.3.1 in /Users/elifohri/Library/Python/3.9/lib/python/site-packages (from matplotlib->stable-baselines3==2.0.0) (1.4.7)\n",
      "Requirement already satisfied: cycler>=0.10 in /Users/elifohri/Library/Python/3.9/lib/python/site-packages (from matplotlib->stable-baselines3==2.0.0) (0.12.1)\n",
      "Requirement already satisfied: contourpy>=1.0.1 in /Users/elifohri/Library/Python/3.9/lib/python/site-packages (from matplotlib->stable-baselines3==2.0.0) (1.3.0)\n",
      "Requirement already satisfied: fonttools>=4.22.0 in /Users/elifohri/Library/Python/3.9/lib/python/site-packages (from matplotlib->stable-baselines3==2.0.0) (4.55.1)\n",
      "Requirement already satisfied: tzdata>=2022.7 in /Users/elifohri/Library/Python/3.9/lib/python/site-packages (from pandas->stable-baselines3==2.0.0) (2024.2)\n",
      "Requirement already satisfied: pytz>=2020.1 in /Users/elifohri/Library/Python/3.9/lib/python/site-packages (from pandas->stable-baselines3==2.0.0) (2024.2)\n",
      "\u001b[33mWARNING: You are using pip version 21.2.4; however, version 25.0.1 is available.\n",
      "You should consider upgrading via the '/Library/Developer/CommandLineTools/usr/bin/python3 -m pip install --upgrade pip' command.\u001b[0m\n",
      "Note: you may need to restart the kernel to use updated packages.\n"
     ]
    }
   ],
   "source": [
    "%pip install stable-baselines3==2.0.0 tensorboard"
   ]
  },
  {
   "cell_type": "code",
   "execution_count": 2,
   "metadata": {},
   "outputs": [
    {
     "name": "stderr",
     "output_type": "stream",
     "text": [
      "/Users/elifohri/Library/Python/3.9/lib/python/site-packages/urllib3/__init__.py:35: NotOpenSSLWarning: urllib3 v2 only supports OpenSSL 1.1.1+, currently the 'ssl' module is compiled with 'LibreSSL 2.8.3'. See: https://github.com/urllib3/urllib3/issues/3020\n",
      "  warnings.warn(\n"
     ]
    }
   ],
   "source": [
    "# Importing necessary libraries\n",
    "import gymnasium as gym\n",
    "import mobile_env\n",
    "import numpy as np\n",
    "from stable_baselines3 import PPO\n",
    "from stable_baselines3.ppo import MlpPolicy\n",
    "from stable_baselines3.common.env_checker import check_env\n",
    "\n",
    "# predefined small scenarios\n",
    "from mobile_env.scenarios.smart_city import MComSmartCity\n",
    "\n",
    "# easy access to the default configuration\n",
    "MComSmartCity.default_config()\n",
    "\n",
    "env = gym.make(\"mobile-smart_city-smart_city_handler-v0\", render_mode=\"rgb_array\")"
   ]
  },
  {
   "cell_type": "code",
   "execution_count": 3,
   "metadata": {},
   "outputs": [
    {
     "data": {
      "text/plain": [
       "{'width': 200,\n",
       " 'height': 200,\n",
       " 'EP_MAX_TIME': 100,\n",
       " 'seed': 666,\n",
       " 'reset_rng_episode': False,\n",
       " 'arrival': mobile_env.core.arrival.NoDeparture,\n",
       " 'channel': mobile_env.core.channels.OkumuraHata,\n",
       " 'scheduler': mobile_env.core.schedules.ResourceFair,\n",
       " 'movement': mobile_env.core.movement.RandomWaypointMovement,\n",
       " 'utility': mobile_env.core.utilities.BoundedLogUtility,\n",
       " 'sensor_placement': mobile_env.core.sensor_placement.SensorPlacement,\n",
       " 'handler': mobile_env.handlers.smart_city_handler.MComSmartCityHandler,\n",
       " 'bs': {'bw': 100000000.0,\n",
       "  'freq': 3500,\n",
       "  'tx': 40,\n",
       "  'height': 40,\n",
       "  'computational_power': 100},\n",
       " 'ue': {'velocity': 1.5, 'snr_tr': 2e-08, 'noise': 1e-09, 'height': 1.5},\n",
       " 'sensor': {'height': 1.5, 'snr_tr': 2e-08, 'noise': 1e-09},\n",
       " 'ue_job': {'job_generation_probability': 0.7,\n",
       "  'communication_job_lambda_value': 50.0,\n",
       "  'computation_job_lambda_value': 5.0},\n",
       " 'sensor_job': {'communication_job_lambda_value': 70.0,\n",
       "  'computation_job_lambda_value': 7.0},\n",
       " 'e2e_delay_threshold': 2.0,\n",
       " 'reward_calculation': {'ue_penalty': 0.0,\n",
       "  'sensor_penalty': 0.0,\n",
       "  'base_reward': 0.0,\n",
       "  'synch_base_reward': 10.0,\n",
       "  'discount_factor': 0.9,\n",
       "  'positive_discount_factor': 0.9,\n",
       "  'negative_discount_factor': 0.8},\n",
       " 'arrival_params': {'ep_time': 100, 'reset_rng_episode': False},\n",
       " 'channel_params': {},\n",
       " 'scheduler_params': {'quantum': 7000000.0},\n",
       " 'movement_params': {'width': 200, 'height': 200, 'reset_rng_episode': False},\n",
       " 'utility_params': {'lower': -20, 'upper': 20, 'coeffs': (10, 0, 10)},\n",
       " 'sensor_placement_params': {'width': 200,\n",
       "  'height': 200,\n",
       "  'max_distance': 90,\n",
       "  'min_distance': 20,\n",
       "  'reset_rng_episode': False},\n",
       " 'metrics': {'scalar_metrics': {},\n",
       "  'performance_metrics': {},\n",
       "  'system_metrics': {},\n",
       "  'ue_metrics': {},\n",
       "  'bs_metrics': {},\n",
       "  'ss_metrics': {}}}"
      ]
     },
     "execution_count": 3,
     "metadata": {},
     "output_type": "execute_result"
    }
   ],
   "source": [
    "# predefined smart city scenario\n",
    "from mobile_env.scenarios.smart_city import MComSmartCity\n",
    "\n",
    "# easy access to the default smart city configuration, parameters and settings\n",
    "MComSmartCity.default_config()"
   ]
  },
  {
   "cell_type": "code",
   "execution_count": 4,
   "metadata": {},
   "outputs": [],
   "source": [
    "import random\n",
    "\n",
    "class CustomEnv(MComSmartCity):\n",
    "    # overwrite the default config\n",
    "    @classmethod\n",
    "    def default_config(cls):\n",
    "        config = super().default_config()\n",
    "        config.update({\"seed\": random.randint(0, 10000),})\n",
    "        return config\n",
    "\n",
    "    def __init__(self, config={}, render_mode=None):\n",
    "        # load default config defined above; overwrite with custom params\n",
    "        env_config = self.default_config()\n",
    "        env_config.update(config)\n",
    "\n",
    "        super().__init__(config, render_mode)"
   ]
  },
  {
   "cell_type": "code",
   "execution_count": 5,
   "metadata": {},
   "outputs": [
    {
     "data": {
      "text/plain": [
       "(array([0., 0.], dtype=float32),\n",
       " {'time': 0.0,\n",
       "  'total reward': 0.0,\n",
       "  'total delayed UE jobs': 0.0,\n",
       "  'total throughput ue': <function mobile_env.core.metrics.calculate_cumulative_throughput_ue(sim)>,\n",
       "  'total throughput sensor': <function mobile_env.core.metrics.calculate_cumulative_throughput_sensor(sim)>,\n",
       "  'total throughput e2e ue': <function mobile_env.core.metrics.calculate_cumulative_throughput_e2e_ue(sim)>,\n",
       "  'total throughput e2e sensor': <function mobile_env.core.metrics.calculate_cumulative_throughput_e2e_sensor(sim)>,\n",
       "  'total e2e delay': 0.0,\n",
       "  'total synchronization delay': 0.0,\n",
       "  'bs trans. ue': {0: 0},\n",
       "  'bs trans. ss': {0: 0},\n",
       "  'bs accomp. ue': {0: 0},\n",
       "  'bs accomp. ss': {0: 0}})"
      ]
     },
     "execution_count": 5,
     "metadata": {},
     "output_type": "execute_result"
    }
   ],
   "source": [
    "# Create environment once\n",
    "env = CustomEnv(render_mode=\"rgb_array\")\n",
    "env.reset()"
   ]
  },
  {
   "cell_type": "code",
   "execution_count": 6,
   "metadata": {},
   "outputs": [
    {
     "data": {
      "text/plain": [
       "{'width': 200,\n",
       " 'height': 200,\n",
       " 'EP_MAX_TIME': 100,\n",
       " 'seed': 2566,\n",
       " 'reset_rng_episode': False,\n",
       " 'arrival': mobile_env.core.arrival.NoDeparture,\n",
       " 'channel': mobile_env.core.channels.OkumuraHata,\n",
       " 'scheduler': mobile_env.core.schedules.ResourceFair,\n",
       " 'movement': mobile_env.core.movement.RandomWaypointMovement,\n",
       " 'utility': mobile_env.core.utilities.BoundedLogUtility,\n",
       " 'sensor_placement': mobile_env.core.sensor_placement.SensorPlacement,\n",
       " 'handler': mobile_env.handlers.smart_city_handler.MComSmartCityHandler,\n",
       " 'bs': {'bw': 100000000.0,\n",
       "  'freq': 3500,\n",
       "  'tx': 40,\n",
       "  'height': 40,\n",
       "  'computational_power': 100},\n",
       " 'ue': {'velocity': 1.5, 'snr_tr': 2e-08, 'noise': 1e-09, 'height': 1.5},\n",
       " 'sensor': {'height': 1.5, 'snr_tr': 2e-08, 'noise': 1e-09},\n",
       " 'ue_job': {'job_generation_probability': 0.7,\n",
       "  'communication_job_lambda_value': 50.0,\n",
       "  'computation_job_lambda_value': 5.0},\n",
       " 'sensor_job': {'communication_job_lambda_value': 70.0,\n",
       "  'computation_job_lambda_value': 7.0},\n",
       " 'e2e_delay_threshold': 2.0,\n",
       " 'reward_calculation': {'ue_penalty': 0.0,\n",
       "  'sensor_penalty': 0.0,\n",
       "  'base_reward': 0.0,\n",
       "  'synch_base_reward': 10.0,\n",
       "  'discount_factor': 0.9,\n",
       "  'positive_discount_factor': 0.9,\n",
       "  'negative_discount_factor': 0.8},\n",
       " 'arrival_params': {'ep_time': 100, 'reset_rng_episode': False},\n",
       " 'channel_params': {},\n",
       " 'scheduler_params': {'quantum': 7000000.0},\n",
       " 'movement_params': {'width': 200, 'height': 200, 'reset_rng_episode': False},\n",
       " 'utility_params': {'lower': -20, 'upper': 20, 'coeffs': (10, 0, 10)},\n",
       " 'sensor_placement_params': {'width': 200,\n",
       "  'height': 200,\n",
       "  'max_distance': 90,\n",
       "  'min_distance': 20,\n",
       "  'reset_rng_episode': False},\n",
       " 'metrics': {'scalar_metrics': {},\n",
       "  'performance_metrics': {},\n",
       "  'system_metrics': {},\n",
       "  'ue_metrics': {},\n",
       "  'bs_metrics': {},\n",
       "  'ss_metrics': {}}}"
      ]
     },
     "execution_count": 6,
     "metadata": {},
     "output_type": "execute_result"
    }
   ],
   "source": [
    "# Default configuration\n",
    "env.default_config()"
   ]
  },
  {
   "cell_type": "code",
   "execution_count": 7,
   "metadata": {},
   "outputs": [
    {
     "name": "stderr",
     "output_type": "stream",
     "text": [
      "/Users/elifohri/Library/Python/3.9/lib/python/site-packages/stable_baselines3/common/save_util.py:437: FutureWarning: You are using `torch.load` with `weights_only=False` (the current default value), which uses the default pickle module implicitly. It is possible to construct malicious pickle data which will execute arbitrary code during unpickling (See https://github.com/pytorch/pytorch/blob/main/SECURITY.md#untrusted-models for more details). In a future release, the default value for `weights_only` will be flipped to `True`. This limits the functions that could be executed during unpickling. Arbitrary objects will no longer be allowed to be loaded via this mode unless they are explicitly allowlisted by the user via `torch.serialization.add_safe_globals`. We recommend you start setting `weights_only=True` for any use case where you don't have full control of the loaded file. Please open an issue on GitHub for any issues related to this experimental feature.\n",
      "  th_object = th.load(file_content, map_location=device)\n"
     ]
    }
   ],
   "source": [
    "# Load the trained model\n",
    "model_path1 = \"/Users/elifohri/Documents/mobile-env/example_scenarios/trainings_with_different_seed_new_throughput/df_0.9/ppo_models/ppo_seed_666.zip\"\n",
    "model1 = PPO.load(model_path1)"
   ]
  },
  {
   "cell_type": "code",
   "execution_count": null,
   "metadata": {},
   "outputs": [],
   "source": [
    "metrics_df"
   ]
  },
  {
   "cell_type": "code",
   "execution_count": null,
   "metadata": {},
   "outputs": [],
   "source": [
    "all_synch_delays"
   ]
  },
  {
   "cell_type": "code",
   "execution_count": null,
   "metadata": {},
   "outputs": [],
   "source": [
    "import matplotlib.pyplot as plt\n",
    "\n",
    "# Plot the distribution of actions\n",
    "plt.figure(figsize=(10, 6))\n",
    "plt.hist(all_actions[:, 0], bins=20, alpha=0.7, label='Action 1')\n",
    "plt.hist(all_actions[:, 1], bins=20, alpha=0.7, label='Action 2')\n",
    "plt.title('Action Distribution')\n",
    "plt.xlabel('Action Value')\n",
    "plt.ylabel('Frequency')\n",
    "plt.legend()\n",
    "plt.show()"
   ]
  },
  {
   "cell_type": "code",
   "execution_count": null,
   "metadata": {},
   "outputs": [],
   "source": [
    "# Calculate basic statistics for observations\n",
    "obs_mean = np.mean(all_observations, axis=0)\n",
    "obs_std = np.std(all_observations, axis=0)\n",
    "obs_min = np.min(all_observations, axis=0)\n",
    "obs_max = np.max(all_observations, axis=0)\n",
    "\n",
    "print(f\"Mean of Observations: {obs_mean}\")\n",
    "print(f\"Standard Deviation of Observations: {obs_std}\")\n",
    "print(f\"Minimum of Observations: {obs_min}\")\n",
    "print(f\"Maximum of Observations: {obs_max}\")\n",
    "\n",
    "# Plot the distribution of observations\n",
    "plt.figure(figsize=(10, 6))\n",
    "plt.hist(all_observations[:, 0], bins=20, alpha=0.7, label='Observation 1')\n",
    "plt.hist(all_observations[:, 1], bins=20, alpha=0.7, label='Observation 2')\n",
    "plt.title('Observation Distribution')\n",
    "plt.xlabel('Observation Value')\n",
    "plt.ylabel('Frequency')\n",
    "plt.legend()\n",
    "plt.show()"
   ]
  },
  {
   "cell_type": "code",
   "execution_count": null,
   "metadata": {},
   "outputs": [],
   "source": [
    "# Calculate basic statistics for rewards\n",
    "reward_mean = np.mean(all_rewards)\n",
    "reward_std = np.std(all_rewards)\n",
    "reward_min = np.min(all_rewards)\n",
    "reward_max = np.max(all_rewards)\n",
    "\n",
    "print(f\"Mean of Rewards: {reward_mean}\")\n",
    "print(f\"Standard Deviation of Rewards: {reward_std}\")\n",
    "print(f\"Minimum of Rewards: {reward_min}\")\n",
    "print(f\"Maximum of Rewards: {reward_max}\")\n",
    "\n",
    "# Plot the distribution of rewards\n",
    "plt.figure(figsize=(10, 6))\n",
    "plt.hist(all_rewards, bins=20, alpha=0.7, color='blue', label='Rewards')\n",
    "plt.title('Reward Distribution')\n",
    "plt.xlabel('Reward Value')\n",
    "plt.ylabel('Frequency')\n",
    "plt.legend()\n",
    "plt.show()"
   ]
  }
 ],
 "metadata": {
  "kernelspec": {
   "display_name": "Python 3",
   "language": "python",
   "name": "python3"
  },
  "language_info": {
   "codemirror_mode": {
    "name": "ipython",
    "version": 3
   },
   "file_extension": ".py",
   "mimetype": "text/x-python",
   "name": "python",
   "nbconvert_exporter": "python",
   "pygments_lexer": "ipython3",
   "version": "3.9.6"
  }
 },
 "nbformat": 4,
 "nbformat_minor": 2
}
